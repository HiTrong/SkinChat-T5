{
 "cells": [
  {
   "cell_type": "markdown",
   "metadata": {},
   "source": [
    "# Import Library"
   ]
  },
  {
   "cell_type": "code",
   "execution_count": 8,
   "metadata": {},
   "outputs": [],
   "source": [
    "import pandas as pd\n",
    "import joblib\n",
    "from sklearn.model_selection import train_test_split, GridSearchCV\n",
    "from sklearn.preprocessing import StandardScaler\n",
    "from sklearn.linear_model import LogisticRegression\n",
    "from sklearn.ensemble import RandomForestClassifier, GradientBoostingClassifier\n",
    "from sklearn.svm import SVC\n",
    "from sklearn.neighbors import KNeighborsClassifier\n",
    "from sklearn.metrics import classification_report"
   ]
  },
  {
   "cell_type": "markdown",
   "metadata": {},
   "source": [
    "# Load dataset"
   ]
  },
  {
   "cell_type": "code",
   "execution_count": 9,
   "metadata": {},
   "outputs": [
    {
     "data": {
      "text/html": [
       "<div>\n",
       "<style scoped>\n",
       "    .dataframe tbody tr th:only-of-type {\n",
       "        vertical-align: middle;\n",
       "    }\n",
       "\n",
       "    .dataframe tbody tr th {\n",
       "        vertical-align: top;\n",
       "    }\n",
       "\n",
       "    .dataframe thead th {\n",
       "        text-align: right;\n",
       "    }\n",
       "</style>\n",
       "<table border=\"1\" class=\"dataframe\">\n",
       "  <thead>\n",
       "    <tr style=\"text-align: right;\">\n",
       "      <th></th>\n",
       "      <th>F1</th>\n",
       "      <th>R1</th>\n",
       "      <th>R2</th>\n",
       "      <th>RL</th>\n",
       "      <th>labels</th>\n",
       "    </tr>\n",
       "  </thead>\n",
       "  <tbody>\n",
       "    <tr>\n",
       "      <th>0</th>\n",
       "      <td>0.333333</td>\n",
       "      <td>0.594595</td>\n",
       "      <td>0.285714</td>\n",
       "      <td>0.486486</td>\n",
       "      <td>0</td>\n",
       "    </tr>\n",
       "    <tr>\n",
       "      <th>1</th>\n",
       "      <td>0.260870</td>\n",
       "      <td>0.514286</td>\n",
       "      <td>0.121212</td>\n",
       "      <td>0.285714</td>\n",
       "      <td>0</td>\n",
       "    </tr>\n",
       "    <tr>\n",
       "      <th>2</th>\n",
       "      <td>0.258065</td>\n",
       "      <td>0.612245</td>\n",
       "      <td>0.255319</td>\n",
       "      <td>0.408163</td>\n",
       "      <td>0</td>\n",
       "    </tr>\n",
       "    <tr>\n",
       "      <th>3</th>\n",
       "      <td>0.173913</td>\n",
       "      <td>0.411765</td>\n",
       "      <td>0.062500</td>\n",
       "      <td>0.235294</td>\n",
       "      <td>0</td>\n",
       "    </tr>\n",
       "    <tr>\n",
       "      <th>4</th>\n",
       "      <td>0.642857</td>\n",
       "      <td>0.681818</td>\n",
       "      <td>0.523810</td>\n",
       "      <td>0.590909</td>\n",
       "      <td>1</td>\n",
       "    </tr>\n",
       "    <tr>\n",
       "      <th>...</th>\n",
       "      <td>...</td>\n",
       "      <td>...</td>\n",
       "      <td>...</td>\n",
       "      <td>...</td>\n",
       "      <td>...</td>\n",
       "    </tr>\n",
       "    <tr>\n",
       "      <th>10310</th>\n",
       "      <td>0.700000</td>\n",
       "      <td>0.709677</td>\n",
       "      <td>0.689655</td>\n",
       "      <td>0.709677</td>\n",
       "      <td>1</td>\n",
       "    </tr>\n",
       "    <tr>\n",
       "      <th>10311</th>\n",
       "      <td>0.400000</td>\n",
       "      <td>0.654545</td>\n",
       "      <td>0.377358</td>\n",
       "      <td>0.472727</td>\n",
       "      <td>1</td>\n",
       "    </tr>\n",
       "    <tr>\n",
       "      <th>10312</th>\n",
       "      <td>0.444444</td>\n",
       "      <td>0.690909</td>\n",
       "      <td>0.452830</td>\n",
       "      <td>0.363636</td>\n",
       "      <td>1</td>\n",
       "    </tr>\n",
       "    <tr>\n",
       "      <th>10313</th>\n",
       "      <td>0.594595</td>\n",
       "      <td>0.733333</td>\n",
       "      <td>0.517241</td>\n",
       "      <td>0.600000</td>\n",
       "      <td>1</td>\n",
       "    </tr>\n",
       "    <tr>\n",
       "      <th>10314</th>\n",
       "      <td>0.315789</td>\n",
       "      <td>0.580645</td>\n",
       "      <td>0.275862</td>\n",
       "      <td>0.387097</td>\n",
       "      <td>0</td>\n",
       "    </tr>\n",
       "  </tbody>\n",
       "</table>\n",
       "<p>10288 rows × 5 columns</p>\n",
       "</div>"
      ],
      "text/plain": [
       "             F1        R1        R2        RL  labels\n",
       "0      0.333333  0.594595  0.285714  0.486486       0\n",
       "1      0.260870  0.514286  0.121212  0.285714       0\n",
       "2      0.258065  0.612245  0.255319  0.408163       0\n",
       "3      0.173913  0.411765  0.062500  0.235294       0\n",
       "4      0.642857  0.681818  0.523810  0.590909       1\n",
       "...         ...       ...       ...       ...     ...\n",
       "10310  0.700000  0.709677  0.689655  0.709677       1\n",
       "10311  0.400000  0.654545  0.377358  0.472727       1\n",
       "10312  0.444444  0.690909  0.452830  0.363636       1\n",
       "10313  0.594595  0.733333  0.517241  0.600000       1\n",
       "10314  0.315789  0.580645  0.275862  0.387097       0\n",
       "\n",
       "[10288 rows x 5 columns]"
      ]
     },
     "execution_count": 9,
     "metadata": {},
     "output_type": "execute_result"
    }
   ],
   "source": [
    "df1 = pd.read_csv(\"unrelated.csv\")\n",
    "df2 = pd.read_csv(\"related.csv\")\n",
    "df_new = pd.concat([df1, df2])\n",
    "df_new = df_new.sample(frac=1).reset_index(drop=True).drop_duplicates().dropna()\n",
    "df_new"
   ]
  },
  {
   "cell_type": "markdown",
   "metadata": {},
   "source": [
    "# Train, test split"
   ]
  },
  {
   "cell_type": "code",
   "execution_count": 10,
   "metadata": {},
   "outputs": [],
   "source": [
    "X = df_new.drop(columns=['labels'])\n",
    "y = df_new['labels']\n",
    "X_train, X_test, y_train, y_test = train_test_split(X, y, test_size=0.1, random_state=42)"
   ]
  },
  {
   "cell_type": "markdown",
   "metadata": {},
   "source": [
    "# Find best model"
   ]
  },
  {
   "cell_type": "code",
   "execution_count": 11,
   "metadata": {},
   "outputs": [],
   "source": [
    "models = {\n",
    "    \"Logistic Regression\": LogisticRegression(),\n",
    "    \"Random Forest\": RandomForestClassifier(),\n",
    "    \"SVM\": SVC(),\n",
    "    \"K-Nearest Neighbors\": KNeighborsClassifier(),\n",
    "    \"Gradient Boosting\": GradientBoostingClassifier()\n",
    "}"
   ]
  },
  {
   "cell_type": "code",
   "execution_count": 12,
   "metadata": {},
   "outputs": [],
   "source": [
    "param_grid = {\n",
    "    \"Logistic Regression\": {\n",
    "        'C': [0.01, 0.1, 1, 10],\n",
    "        'penalty': ['l2'],\n",
    "        'solver': ['liblinear']\n",
    "    },\n",
    "    \"Random Forest\": {\n",
    "        'n_estimators': [50, 100, 200],\n",
    "        'max_depth': [10, 20, 30, None],\n",
    "        'min_samples_split': [2, 5, 10]\n",
    "    },\n",
    "    \"SVM\": {\n",
    "        'C': [0.1, 1, 10],\n",
    "        'kernel': ['linear', 'rbf'],\n",
    "        'gamma': ['scale', 'auto']\n",
    "    },\n",
    "    \"K-Nearest Neighbors\": {\n",
    "        'n_neighbors': [3, 5, 7, 10],\n",
    "        'weights': ['uniform', 'distance'],\n",
    "        'metric': ['euclidean', 'manhattan', 'minkowski']\n",
    "    },\n",
    "    \"Gradient Boosting\": {\n",
    "        'n_estimators': [50, 100, 150],\n",
    "        'learning_rate': [0.01, 0.1, 0.5],\n",
    "        'max_depth': [3, 5, 7],\n",
    "        'subsample': [0.8, 1.0]\n",
    "    }\n",
    "}"
   ]
  },
  {
   "cell_type": "code",
   "execution_count": 13,
   "metadata": {},
   "outputs": [
    {
     "name": "stdout",
     "output_type": "stream",
     "text": [
      "Running GridSearchCV for Logistic Regression...\n",
      "Fitting 5 folds for each of 4 candidates, totalling 20 fits\n",
      "Running GridSearchCV for Random Forest...\n",
      "Fitting 5 folds for each of 36 candidates, totalling 180 fits\n",
      "Running GridSearchCV for SVM...\n",
      "Fitting 5 folds for each of 12 candidates, totalling 60 fits\n",
      "Running GridSearchCV for K-Nearest Neighbors...\n",
      "Fitting 5 folds for each of 24 candidates, totalling 120 fits\n",
      "Running GridSearchCV for Gradient Boosting...\n",
      "Fitting 5 folds for each of 54 candidates, totalling 270 fits\n",
      "\n",
      "Evaluating Logistic Regression...\n",
      "              precision    recall  f1-score   support\n",
      "\n",
      "           0       0.77      0.79      0.78       495\n",
      "           1       0.80      0.78      0.79       534\n",
      "\n",
      "    accuracy                           0.79      1029\n",
      "   macro avg       0.79      0.79      0.79      1029\n",
      "weighted avg       0.79      0.79      0.79      1029\n",
      "\n",
      "\n",
      "Evaluating Random Forest...\n",
      "              precision    recall  f1-score   support\n",
      "\n",
      "           0       0.75      0.80      0.78       495\n",
      "           1       0.81      0.75      0.78       534\n",
      "\n",
      "    accuracy                           0.78      1029\n",
      "   macro avg       0.78      0.78      0.78      1029\n",
      "weighted avg       0.78      0.78      0.78      1029\n",
      "\n",
      "\n",
      "Evaluating SVM...\n",
      "              precision    recall  f1-score   support\n",
      "\n",
      "           0       0.74      0.81      0.77       495\n",
      "           1       0.81      0.73      0.77       534\n",
      "\n",
      "    accuracy                           0.77      1029\n",
      "   macro avg       0.77      0.77      0.77      1029\n",
      "weighted avg       0.77      0.77      0.77      1029\n",
      "\n",
      "\n",
      "Evaluating K-Nearest Neighbors...\n",
      "              precision    recall  f1-score   support\n",
      "\n",
      "           0       0.72      0.81      0.77       495\n",
      "           1       0.80      0.71      0.75       534\n",
      "\n",
      "    accuracy                           0.76      1029\n",
      "   macro avg       0.76      0.76      0.76      1029\n",
      "weighted avg       0.77      0.76      0.76      1029\n",
      "\n",
      "\n",
      "Evaluating Gradient Boosting...\n",
      "              precision    recall  f1-score   support\n",
      "\n",
      "           0       0.76      0.80      0.78       495\n",
      "           1       0.81      0.76      0.78       534\n",
      "\n",
      "    accuracy                           0.78      1029\n",
      "   macro avg       0.78      0.78      0.78      1029\n",
      "weighted avg       0.78      0.78      0.78      1029\n",
      "\n"
     ]
    }
   ],
   "source": [
    "best_models = {}\n",
    "for model_name, model in models.items():\n",
    "    print(f\"Running GridSearchCV for {model_name}...\")\n",
    "    grid_search = GridSearchCV(estimator=model, param_grid=param_grid[model_name], cv=5, n_jobs=-1, verbose=1)\n",
    "    grid_search.fit(X_train, y_train)\n",
    "    \n",
    "    best_models[model_name] = grid_search.best_estimator_\n",
    "\n",
    "for model_name, best_model in best_models.items():\n",
    "    print(f\"\\nEvaluating {model_name}...\")\n",
    "    y_pred = best_model.predict(X_test)\n",
    "    print(classification_report(y_test, y_pred))"
   ]
  },
  {
   "cell_type": "markdown",
   "metadata": {},
   "source": [
    "# Save model"
   ]
  },
  {
   "cell_type": "code",
   "execution_count": 15,
   "metadata": {},
   "outputs": [
    {
     "name": "stdout",
     "output_type": "stream",
     "text": [
      "Model has been saved as 'unrelated_model.pkl'\n"
     ]
    }
   ],
   "source": [
    "best_model = best_models[\"Logistic Regression\"]\n",
    "joblib.dump(best_model, \"unrelated_model.pkl\")\n",
    "print(\"Model has been saved as 'unrelated_model.pkl'\")"
   ]
  },
  {
   "cell_type": "code",
   "execution_count": null,
   "metadata": {},
   "outputs": [],
   "source": []
  }
 ],
 "metadata": {
  "kernelspec": {
   "display_name": ".venv",
   "language": "python",
   "name": "python3"
  },
  "language_info": {
   "codemirror_mode": {
    "name": "ipython",
    "version": 3
   },
   "file_extension": ".py",
   "mimetype": "text/x-python",
   "name": "python",
   "nbconvert_exporter": "python",
   "pygments_lexer": "ipython3",
   "version": "3.11.1"
  }
 },
 "nbformat": 4,
 "nbformat_minor": 2
}
