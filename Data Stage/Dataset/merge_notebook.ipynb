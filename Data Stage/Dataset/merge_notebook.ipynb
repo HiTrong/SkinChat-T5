{
 "cells": [
  {
   "cell_type": "markdown",
   "metadata": {},
   "source": [
    "# Import Library"
   ]
  },
  {
   "cell_type": "code",
   "execution_count": 1,
   "metadata": {},
   "outputs": [],
   "source": [
    "import numpy as np\n",
    "import pandas as pd\n",
    "import os"
   ]
  },
  {
   "cell_type": "markdown",
   "metadata": {},
   "source": [
    "# Merge and Split dataset"
   ]
  },
  {
   "cell_type": "code",
   "execution_count": 8,
   "metadata": {},
   "outputs": [],
   "source": [
    "train_csv_list = []\n",
    "valid_csv_list = []\n",
    "test_csv_list = []\n",
    "\n",
    "for filename in os.listdir(\"./Data Synthetic\"):\n",
    "    csv_path = os.path.join(\"./Data Synthetic\", filename)\n",
    "    df = pd.read_csv(csv_path)\n",
    "    df1 = df.sample(n=2)\n",
    "    df2 = df.drop(df1.index).sample(n=2)\n",
    "    test_csv_list.append(df1)\n",
    "    valid_csv_list.append(df2)\n",
    "    train_csv_list.append(df.drop(df1.index).drop(df2.index))\n",
    "    \n",
    "for filename in os.listdir(\"./Another\"):\n",
    "    csv_path = os.path.join(\"./Another\", filename)\n",
    "    df = pd.read_csv(csv_path)\n",
    "    train_csv_list.append(df)\n",
    "    "
   ]
  },
  {
   "cell_type": "code",
   "execution_count": 17,
   "metadata": {},
   "outputs": [
    {
     "name": "stdout",
     "output_type": "stream",
     "text": [
      "(220697, 2)\n"
     ]
    },
    {
     "data": {
      "text/html": [
       "<div>\n",
       "<style scoped>\n",
       "    .dataframe tbody tr th:only-of-type {\n",
       "        vertical-align: middle;\n",
       "    }\n",
       "\n",
       "    .dataframe tbody tr th {\n",
       "        vertical-align: top;\n",
       "    }\n",
       "\n",
       "    .dataframe thead th {\n",
       "        text-align: right;\n",
       "    }\n",
       "</style>\n",
       "<table border=\"1\" class=\"dataframe\">\n",
       "  <thead>\n",
       "    <tr style=\"text-align: right;\">\n",
       "      <th></th>\n",
       "      <th>Question</th>\n",
       "      <th>Answer</th>\n",
       "    </tr>\n",
       "  </thead>\n",
       "  <tbody>\n",
       "    <tr>\n",
       "      <th>0</th>\n",
       "      <td>Bác sĩ, cháu bị viêm da tiếp xúc dị ứng tái ph...</td>\n",
       "      <td>Em nên xem lại các yếu tố gây dị ứng và tìm hi...</td>\n",
       "    </tr>\n",
       "    <tr>\n",
       "      <th>1</th>\n",
       "      <td>Các vấn đề sức khỏe tâm thần liên quan đến bện...</td>\n",
       "      <td>Bệnh vảy nến có thể đi kèm với các vấn đề sức ...</td>\n",
       "    </tr>\n",
       "    <tr>\n",
       "      <th>2</th>\n",
       "      <td>Bác sĩ ơi, em bị nổi mẩn đỏ trên da, kèm theo ...</td>\n",
       "      <td>Chào em, triệu chứng của em có thể là do viêm ...</td>\n",
       "    </tr>\n",
       "  </tbody>\n",
       "</table>\n",
       "</div>"
      ],
      "text/plain": [
       "                                            Question  \\\n",
       "0  Bác sĩ, cháu bị viêm da tiếp xúc dị ứng tái ph...   \n",
       "1  Các vấn đề sức khỏe tâm thần liên quan đến bện...   \n",
       "2  Bác sĩ ơi, em bị nổi mẩn đỏ trên da, kèm theo ...   \n",
       "\n",
       "                                              Answer  \n",
       "0  Em nên xem lại các yếu tố gây dị ứng và tìm hi...  \n",
       "1  Bệnh vảy nến có thể đi kèm với các vấn đề sức ...  \n",
       "2  Chào em, triệu chứng của em có thể là do viêm ...  "
      ]
     },
     "execution_count": 17,
     "metadata": {},
     "output_type": "execute_result"
    }
   ],
   "source": [
    "train_df = pd.concat(train_csv_list).sample(frac=1).reset_index(drop=True)\n",
    "train_df = train_df.dropna().drop_duplicates()\n",
    "print(train_df.shape)\n",
    "train_df.head(3)"
   ]
  },
  {
   "cell_type": "code",
   "execution_count": null,
   "metadata": {},
   "outputs": [
    {
     "name": "stdout",
     "output_type": "stream",
     "text": [
      "(130, 2)\n"
     ]
    },
    {
     "data": {
      "text/html": [
       "<div>\n",
       "<style scoped>\n",
       "    .dataframe tbody tr th:only-of-type {\n",
       "        vertical-align: middle;\n",
       "    }\n",
       "\n",
       "    .dataframe tbody tr th {\n",
       "        vertical-align: top;\n",
       "    }\n",
       "\n",
       "    .dataframe thead th {\n",
       "        text-align: right;\n",
       "    }\n",
       "</style>\n",
       "<table border=\"1\" class=\"dataframe\">\n",
       "  <thead>\n",
       "    <tr style=\"text-align: right;\">\n",
       "      <th></th>\n",
       "      <th>Question</th>\n",
       "      <th>Answer</th>\n",
       "    </tr>\n",
       "  </thead>\n",
       "  <tbody>\n",
       "    <tr>\n",
       "      <th>0</th>\n",
       "      <td>Tôi có cần phải kiểm tra lại định kỳ khi bị á ...</td>\n",
       "      <td>Có, việc kiểm tra định kỳ giúp bác sĩ theo dõi...</td>\n",
       "    </tr>\n",
       "    <tr>\n",
       "      <th>1</th>\n",
       "      <td>Tôi có cần phải dùng kem chống nắng khi bị vảy...</td>\n",
       "      <td>Có, sử dụng kem chống nắng là rất quan trọng đ...</td>\n",
       "    </tr>\n",
       "    <tr>\n",
       "      <th>2</th>\n",
       "      <td>Bệnh Apthose thường xuất hiện ở vị trí nào tro...</td>\n",
       "      <td>Bệnh Apthose thường xuất hiện ở các khu vực mề...</td>\n",
       "    </tr>\n",
       "  </tbody>\n",
       "</table>\n",
       "</div>"
      ],
      "text/plain": [
       "                                            Question  \\\n",
       "0  Tôi có cần phải kiểm tra lại định kỳ khi bị á ...   \n",
       "1  Tôi có cần phải dùng kem chống nắng khi bị vảy...   \n",
       "2  Bệnh Apthose thường xuất hiện ở vị trí nào tro...   \n",
       "\n",
       "                                              Answer  \n",
       "0  Có, việc kiểm tra định kỳ giúp bác sĩ theo dõi...  \n",
       "1  Có, sử dụng kem chống nắng là rất quan trọng đ...  \n",
       "2  Bệnh Apthose thường xuất hiện ở các khu vực mề...  "
      ]
     },
     "execution_count": 13,
     "metadata": {},
     "output_type": "execute_result"
    }
   ],
   "source": [
    "valid_df = pd.concat(valid_csv_list).sample(frac=1).reset_index(drop=True)\n",
    "valid_df = valid_df.dropna().drop_duplicates()\n",
    "print(valid_df.shape)\n",
    "valid_df.head(3)"
   ]
  },
  {
   "cell_type": "code",
   "execution_count": 16,
   "metadata": {},
   "outputs": [
    {
     "name": "stdout",
     "output_type": "stream",
     "text": [
      "(130, 2)\n"
     ]
    },
    {
     "data": {
      "text/html": [
       "<div>\n",
       "<style scoped>\n",
       "    .dataframe tbody tr th:only-of-type {\n",
       "        vertical-align: middle;\n",
       "    }\n",
       "\n",
       "    .dataframe tbody tr th {\n",
       "        vertical-align: top;\n",
       "    }\n",
       "\n",
       "    .dataframe thead th {\n",
       "        text-align: right;\n",
       "    }\n",
       "</style>\n",
       "<table border=\"1\" class=\"dataframe\">\n",
       "  <thead>\n",
       "    <tr style=\"text-align: right;\">\n",
       "      <th></th>\n",
       "      <th>Question</th>\n",
       "      <th>Answer</th>\n",
       "    </tr>\n",
       "  </thead>\n",
       "  <tbody>\n",
       "    <tr>\n",
       "      <th>0</th>\n",
       "      <td>Tôi có thể phòng ngừa bệnh U Xơ Thần Kinh không?</td>\n",
       "      <td>U Xơ Thần Kinh là một bệnh di truyền, nên khôn...</td>\n",
       "    </tr>\n",
       "    <tr>\n",
       "      <th>1</th>\n",
       "      <td>Bác sĩ có thể cho tôi biết vảy phấn hồng Giber...</td>\n",
       "      <td>Vảy phấn hồng Gibert thường không ảnh hưởng đế...</td>\n",
       "    </tr>\n",
       "    <tr>\n",
       "      <th>2</th>\n",
       "      <td>Thời gian điều trị bệnh lao da kéo dài bao lâu?</td>\n",
       "      <td>Thời gian điều trị bệnh lao da thường kéo dài ...</td>\n",
       "    </tr>\n",
       "  </tbody>\n",
       "</table>\n",
       "</div>"
      ],
      "text/plain": [
       "                                            Question  \\\n",
       "0   Tôi có thể phòng ngừa bệnh U Xơ Thần Kinh không?   \n",
       "1  Bác sĩ có thể cho tôi biết vảy phấn hồng Giber...   \n",
       "2    Thời gian điều trị bệnh lao da kéo dài bao lâu?   \n",
       "\n",
       "                                              Answer  \n",
       "0  U Xơ Thần Kinh là một bệnh di truyền, nên khôn...  \n",
       "1  Vảy phấn hồng Gibert thường không ảnh hưởng đế...  \n",
       "2  Thời gian điều trị bệnh lao da thường kéo dài ...  "
      ]
     },
     "execution_count": 16,
     "metadata": {},
     "output_type": "execute_result"
    }
   ],
   "source": [
    "test_df = pd.concat(test_csv_list).sample(frac=1).reset_index(drop=True)\n",
    "test_df = test_df.dropna().drop_duplicates()\n",
    "print(test_df.shape)\n",
    "test_df.head(3)"
   ]
  },
  {
   "cell_type": "markdown",
   "metadata": {},
   "source": [
    "# Save"
   ]
  },
  {
   "cell_type": "code",
   "execution_count": 18,
   "metadata": {},
   "outputs": [],
   "source": [
    "train_df.to_csv(\"skinchat_train.csv\",index=False)\n",
    "valid_df.to_csv(\"skinchat_valid.csv\",index=False)\n",
    "test_df.to_csv(\"skinchat_test.csv\",index=False)"
   ]
  },
  {
   "cell_type": "code",
   "execution_count": null,
   "metadata": {},
   "outputs": [],
   "source": []
  }
 ],
 "metadata": {
  "kernelspec": {
   "display_name": ".venv",
   "language": "python",
   "name": "python3"
  },
  "language_info": {
   "codemirror_mode": {
    "name": "ipython",
    "version": 3
   },
   "file_extension": ".py",
   "mimetype": "text/x-python",
   "name": "python",
   "nbconvert_exporter": "python",
   "pygments_lexer": "ipython3",
   "version": "3.11.1"
  }
 },
 "nbformat": 4,
 "nbformat_minor": 2
}
