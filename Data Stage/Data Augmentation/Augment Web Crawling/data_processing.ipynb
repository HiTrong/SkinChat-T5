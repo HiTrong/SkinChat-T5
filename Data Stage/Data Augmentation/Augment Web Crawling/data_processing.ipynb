{
 "cells": [
  {
   "cell_type": "markdown",
   "metadata": {},
   "source": [
    "# Import thư viện"
   ]
  },
  {
   "cell_type": "code",
   "execution_count": 1,
   "metadata": {},
   "outputs": [
    {
     "name": "stderr",
     "output_type": "stream",
     "text": [
      "c:\\Users\\ADMIN\\Desktop\\Project\\.venv\\Lib\\site-packages\\tqdm\\auto.py:21: TqdmWarning: IProgress not found. Please update jupyter and ipywidgets. See https://ipywidgets.readthedocs.io/en/stable/user_install.html\n",
      "  from .autonotebook import tqdm as notebook_tqdm\n"
     ]
    }
   ],
   "source": [
    "import numpy as np\n",
    "import pandas as pd\n",
    "import ast\n",
    "import re\n",
    "import random\n",
    "from tqdm.auto import tqdm"
   ]
  },
  {
   "cell_type": "markdown",
   "metadata": {},
   "source": [
    "# Làm sạch từng nguồn và hợp nhất\n",
    "\n",
    "- Loại bỏ các dòng null và duplicate\n",
    "- Chỉnh sửa cho đúng định dạng\n",
    "- Biến đổi thành template: (history, question, answer, input, output)\n",
    "\n",
    "Ví dụ:\n",
    "\n",
    "Người dùng: Bác sĩ ơi tôi có những nốt đỏ trên da. Đây là dấu hiệu gì vậy?\n",
    "\n",
    "Bác sĩ AI: Đây là có lẽ là dấu hiệu…\n"
   ]
  },
  {
   "cell_type": "code",
   "execution_count": 2,
   "metadata": {},
   "outputs": [],
   "source": [
    "def randomize_greeting(text, probability=0.7):\n",
    "    greetings = [\n",
    "        \"Xin chào\",\n",
    "        \"Hello\",\n",
    "        \"Chào mừng\",\n",
    "        \"Rất vui được gặp bạn\",\n",
    "        \"Rất cảm ơn sự tin tưởng của bạn\",\n",
    "        \"Chào bạn\",\n",
    "        \"Chào em\",\n",
    "        \"Xin chào bạn\",\n",
    "        \"Xin chào em\",\n",
    "        \"Chào bạn thân mến\",\n",
    "        \"Rất vui được gặp bạn hôm nay\",\n",
    "        \"Cảm ơn bạn đã liên hệ\",\n",
    "        \"Chào bạn, tôi ở đây để giúp bạn\",\n",
    "        \"Rất hân hạnh được hỗ trợ bạn\"\n",
    "    ]\n",
    "    \n",
    "    # Kiểm tra lời chào đầu câu và thay ngẫu nhiên với xác suất\n",
    "    if text.startswith((\"Chào em\", \"Chào bạn\")) and random.random() < probability:\n",
    "        greeting = random.choice(greetings)\n",
    "        text = re.sub(r\"^(Chào em|Chào bạn)\", greeting, text, count=1)\n",
    "    \n",
    "    return text\n",
    "\n",
    "def str2lst_of_dict(text):\n",
    "    try:\n",
    "        # Trực tiếp dùng chuỗi gốc mà không thay thế \\n\n",
    "        data = ast.literal_eval(text)\n",
    "        return data\n",
    "    except (ValueError, SyntaxError) as e:\n",
    "        # In ra chi tiết lỗi để dễ dàng phát hiện vấn đề\n",
    "        # print(f\"Phát hiện lỗi!: {e} - Nội dung không hợp lệ: {text}\")\n",
    "        return None\n",
    "\n",
    "def fix_format(conversation):\n",
    "    if str2lst_of_dict(conversation.replace('\\n', '\\\\n')) is not None:\n",
    "        return conversation.replace('\\n', '\\\\n')\n",
    "    \n",
    "    if not conversation.startswith('['):\n",
    "        conversation = '[' + conversation\n",
    "    if not conversation.endswith(']'):\n",
    "        conversation = conversation + ']'\n",
    "    conversation = conversation.replace('}', '},').replace(',,',',').replace('},]','}]')\n",
    "    conversation = conversation.replace(\"},\\n{\", \"}, {\")\n",
    "    conversation = conversation.replace(\"}, \\n{\", \"}, {\")\n",
    "    conversation = conversation.replace(\"}]\\n{\", \"}, {\")\n",
    "    conversation = conversation.replace('\"\\n}', '\"}')\n",
    "    conversation = conversation.replace('},\\n]','}]').replace('\"]','}]')\n",
    "    conversation = conversation.replace('\\n \"role\"','\"role\"')\n",
    "    conversation = conversation.replace('\\n \"message\"', '\"message\"')\n",
    "    conversation = conversation.replace('\\n', '\\\\n')\n",
    "    conversation = conversation.replace(\"'\",'\"')\n",
    "    conversation = conversation.replace('`','\"')\n",
    "    conversation = re.sub(r'(\"\\s*:\\s*\"[^\"]+\")\\s*(\")', r'\\1,\\2', conversation)\n",
    "    conversation = re.sub(r'\\]+$', ']', conversation)\n",
    "    \n",
    "    if '\"Bác sĩ\":' in conversation:\n",
    "        conversation = conversation.replace('\"Bác sĩ\":', '\"Bác sĩ\", \"message\":')\n",
    "    if '\"Người dùng\":' in conversation:\n",
    "        conversation = conversation.replace('\"Người dùng\":', '\"Người dùng\", \"message\":')\n",
    "        \n",
    "    # Trường hợp riêng\n",
    "    conversation = conversation.replace('\"mục\"','mục').replace('\"dv\"','dv').replace('Paula\"s',\"Paulas\").replace('u}]','\"}]').replace('ẹ}]','\"}]').replace('\"cậu nhỏ\"',\"cậu nhỏ\")\n",
    "        \n",
    "    return conversation\n",
    "    \n",
    "    "
   ]
  },
  {
   "cell_type": "code",
   "execution_count": 4,
   "metadata": {},
   "outputs": [
    {
     "name": "stderr",
     "output_type": "stream",
     "text": [
      "Processing data_augmentation.csv:  23%|██▎       | 4751/20918 [00:00<00:01, 11040.38it/s]"
     ]
    },
    {
     "name": "stdout",
     "output_type": "stream",
     "text": [
      "Error processing conversation: 'message'\n",
      "Error processing conversation: 'message'\n"
     ]
    },
    {
     "name": "stderr",
     "output_type": "stream",
     "text": [
      "Processing data_augmentation.csv:  33%|███▎      | 6834/20918 [00:00<00:01, 8654.04it/s] "
     ]
    },
    {
     "name": "stdout",
     "output_type": "stream",
     "text": [
      "Error processing conversation: 'message'\n"
     ]
    },
    {
     "name": "stderr",
     "output_type": "stream",
     "text": [
      "Processing data_augmentation.csv:  76%|███████▌  | 15836/20918 [00:01<00:00, 9281.86it/s]"
     ]
    },
    {
     "name": "stdout",
     "output_type": "stream",
     "text": [
      "Error processing conversation: 'message'\n"
     ]
    },
    {
     "name": "stderr",
     "output_type": "stream",
     "text": [
      "Processing data_augmentation.csv: 100%|██████████| 20918/20918 [00:02<00:00, 9054.25it/s] "
     ]
    },
    {
     "name": "stdout",
     "output_type": "stream",
     "text": [
      "Error processing conversation: 'message'\n"
     ]
    },
    {
     "name": "stderr",
     "output_type": "stream",
     "text": [
      "\n",
      "Processing data_augmentation2.csv:  59%|█████▉    | 17905/30182 [00:02<00:01, 7763.23it/s]"
     ]
    },
    {
     "name": "stdout",
     "output_type": "stream",
     "text": [
      "Error processing conversation: 'message'\n",
      "Error processing conversation: 'ellipsis' object is not subscriptable\n"
     ]
    },
    {
     "name": "stderr",
     "output_type": "stream",
     "text": [
      "Processing data_augmentation2.csv: 100%|██████████| 30182/30182 [00:03<00:00, 8470.42it/s]\n",
      "Processing data_crawling.csv: 100%|██████████| 1056/1056 [00:00<00:00, 8734.15it/s]\n"
     ]
    },
    {
     "name": "stdout",
     "output_type": "stream",
     "text": [
      "Hợp nhất thành công! Số điểm dữ liệu so với ban đầu: 65816 / 52659\n"
     ]
    },
    {
     "data": {
      "text/html": [
       "<div>\n",
       "<style scoped>\n",
       "    .dataframe tbody tr th:only-of-type {\n",
       "        vertical-align: middle;\n",
       "    }\n",
       "\n",
       "    .dataframe tbody tr th {\n",
       "        vertical-align: top;\n",
       "    }\n",
       "\n",
       "    .dataframe thead th {\n",
       "        text-align: right;\n",
       "    }\n",
       "</style>\n",
       "<table border=\"1\" class=\"dataframe\">\n",
       "  <thead>\n",
       "    <tr style=\"text-align: right;\">\n",
       "      <th></th>\n",
       "      <th>Question</th>\n",
       "      <th>Answer</th>\n",
       "    </tr>\n",
       "  </thead>\n",
       "  <tbody>\n",
       "    <tr>\n",
       "      <th>0</th>\n",
       "      <td>Chào BS,\\nEm bị bệnh nấm da lâu năm không khỏi...</td>\n",
       "      <td>Chào bạn,\\nNấm da là một loại bệnh dễ tái phát...</td>\n",
       "    </tr>\n",
       "    <tr>\n",
       "      <th>1</th>\n",
       "      <td>BS ơi, em bị nấm da ở vùng kín, em rất ngại đi...</td>\n",
       "      <td>Bạn thân mến, nấm da ở vùng kín có thể do nhiề...</td>\n",
       "    </tr>\n",
       "    <tr>\n",
       "      <th>2</th>\n",
       "      <td>Con gái em bị nấm da đầu, em đã mua thuốc bôi ...</td>\n",
       "      <td>Chào bạn, nấm da đầu ở trẻ em có thể do nhiều ...</td>\n",
       "    </tr>\n",
       "    <tr>\n",
       "      <th>3</th>\n",
       "      <td>Em bị nấm da, bác sĩ ơi, em có thể tự điều trị...</td>\n",
       "      <td>Chào bạn, việc tự điều trị nấm da có thể dẫn đ...</td>\n",
       "    </tr>\n",
       "    <tr>\n",
       "      <th>4</th>\n",
       "      <td>Mông của em bị thâm, có mụn mọc nhiều như rôm,...</td>\n",
       "      <td>Thân mến,\\nTheo sinh lý thì mông của nhiều ngư...</td>\n",
       "    </tr>\n",
       "    <tr>\n",
       "      <th>5</th>\n",
       "      <td>Mông em bị thâm, có mụn mọc nhiều, không màu k...</td>\n",
       "      <td>Chào bạn, tình trạng da mông thâm, có mụn, khô...</td>\n",
       "    </tr>\n",
       "    <tr>\n",
       "      <th>6</th>\n",
       "      <td>Mông em bị thâm, có mụn mọc nhiều, không màu k...</td>\n",
       "      <td>Chào bạn, tình trạng da mông bị thâm, có mụn, ...</td>\n",
       "    </tr>\n",
       "    <tr>\n",
       "      <th>7</th>\n",
       "      <td>Em bị thâm mông, nhiều mụn nhỏ li ti màu trắng...</td>\n",
       "      <td>Chào bạn, tình trạng thâm mông, nhiều mụn nhỏ ...</td>\n",
       "    </tr>\n",
       "    <tr>\n",
       "      <th>8</th>\n",
       "      <td>Mông em bị thâm, có mụn mọc nhiều, không màu k...</td>\n",
       "      <td>Chào bạn, tình trạng thâm mông, mụn, dễ bị kíc...</td>\n",
       "    </tr>\n",
       "    <tr>\n",
       "      <th>9</th>\n",
       "      <td>Chào BS,\\nMặt tôi hiện tại đang bị mụn đỏ và m...</td>\n",
       "      <td>Chào bạn,\\nLăn kim là một phương pháp làm tái ...</td>\n",
       "    </tr>\n",
       "  </tbody>\n",
       "</table>\n",
       "</div>"
      ],
      "text/plain": [
       "                                            Question  \\\n",
       "0  Chào BS,\\nEm bị bệnh nấm da lâu năm không khỏi...   \n",
       "1  BS ơi, em bị nấm da ở vùng kín, em rất ngại đi...   \n",
       "2  Con gái em bị nấm da đầu, em đã mua thuốc bôi ...   \n",
       "3  Em bị nấm da, bác sĩ ơi, em có thể tự điều trị...   \n",
       "4  Mông của em bị thâm, có mụn mọc nhiều như rôm,...   \n",
       "5  Mông em bị thâm, có mụn mọc nhiều, không màu k...   \n",
       "6  Mông em bị thâm, có mụn mọc nhiều, không màu k...   \n",
       "7  Em bị thâm mông, nhiều mụn nhỏ li ti màu trắng...   \n",
       "8  Mông em bị thâm, có mụn mọc nhiều, không màu k...   \n",
       "9  Chào BS,\\nMặt tôi hiện tại đang bị mụn đỏ và m...   \n",
       "\n",
       "                                              Answer  \n",
       "0  Chào bạn,\\nNấm da là một loại bệnh dễ tái phát...  \n",
       "1  Bạn thân mến, nấm da ở vùng kín có thể do nhiề...  \n",
       "2  Chào bạn, nấm da đầu ở trẻ em có thể do nhiều ...  \n",
       "3  Chào bạn, việc tự điều trị nấm da có thể dẫn đ...  \n",
       "4  Thân mến,\\nTheo sinh lý thì mông của nhiều ngư...  \n",
       "5  Chào bạn, tình trạng da mông thâm, có mụn, khô...  \n",
       "6  Chào bạn, tình trạng da mông bị thâm, có mụn, ...  \n",
       "7  Chào bạn, tình trạng thâm mông, nhiều mụn nhỏ ...  \n",
       "8  Chào bạn, tình trạng thâm mông, mụn, dễ bị kíc...  \n",
       "9  Chào bạn,\\nLăn kim là một phương pháp làm tái ...  "
      ]
     },
     "execution_count": 4,
     "metadata": {},
     "output_type": "execute_result"
    }
   ],
   "source": [
    "csv_path = [\"data_augmentation.csv\", \"data_augmentation2.csv\", \"data_crawling.csv\"]\n",
    "data_dict = {\n",
    "    \"Question\": [],\n",
    "    \"Answer\": [],\n",
    "}\n",
    "total = 0\n",
    "\n",
    "for path in csv_path:\n",
    "    df = pd.read_csv(path)\n",
    "    total += df.shape[0]\n",
    "    df = df.dropna()  # Xóa các giá trị thiếu\n",
    "    df = df.drop_duplicates()  # Loại bỏ các hàng trùng lặp\n",
    "\n",
    "    # Xử lý từng hội thoại trong cột 'conversation'\n",
    "    for conversation in tqdm(df[\"conversation\"], desc=f\"Processing {path}\"):\n",
    "        fix_conversation = fix_format(str(conversation))\n",
    "        a = str2lst_of_dict(fix_conversation)  # Chuyển chuỗi thành danh sách dictionary của tin nhắn\n",
    "        \n",
    "        if a is None:\n",
    "            continue\n",
    "\n",
    "        try:\n",
    "            question = \"\"\n",
    "\n",
    "            for i, message in enumerate(a):\n",
    "                role = message[\"role\"]\n",
    "                msg = message[\"message\"].strip()\n",
    "\n",
    "                if role == \"Người dùng\":\n",
    "                    question += msg\n",
    "\n",
    "                elif role == \"Bác sĩ\":\n",
    "                    if question != \"\":\n",
    "                        data_dict[\"Question\"].append(question.strip())\n",
    "                        data_dict[\"Answer\"].append(msg.strip())\n",
    "                        question = \"\"\n",
    "        except Exception as e:\n",
    "            print(f\"Error processing conversation: {e}\")\n",
    "            continue\n",
    "            \n",
    "            \n",
    "\n",
    "df = pd.DataFrame(data_dict)\n",
    "df.drop_duplicates(inplace=True)\n",
    "df.dropna(inplace=True)\n",
    "print(\"Hợp nhất thành công! Số điểm dữ liệu so với ban đầu:\",str(len(df)),\"/\",str(total))\n",
    "df.head(10)"
   ]
  },
  {
   "cell_type": "code",
   "execution_count": 5,
   "metadata": {},
   "outputs": [
    {
     "data": {
      "text/plain": [
       "(65816, 2)"
      ]
     },
     "execution_count": 5,
     "metadata": {},
     "output_type": "execute_result"
    }
   ],
   "source": [
    "df.shape"
   ]
  },
  {
   "cell_type": "markdown",
   "metadata": {},
   "source": [
    "# Save to CSV"
   ]
  },
  {
   "cell_type": "code",
   "execution_count": 6,
   "metadata": {},
   "outputs": [],
   "source": [
    "df.to_csv(\"./dataset/augmentation_dataset.csv\", index=False)"
   ]
  },
  {
   "cell_type": "code",
   "execution_count": null,
   "metadata": {},
   "outputs": [],
   "source": []
  }
 ],
 "metadata": {
  "kernelspec": {
   "display_name": ".venv",
   "language": "python",
   "name": "python3"
  },
  "language_info": {
   "codemirror_mode": {
    "name": "ipython",
    "version": 3
   },
   "file_extension": ".py",
   "mimetype": "text/x-python",
   "name": "python",
   "nbconvert_exporter": "python",
   "pygments_lexer": "ipython3",
   "version": "3.11.1"
  }
 },
 "nbformat": 4,
 "nbformat_minor": 2
}
