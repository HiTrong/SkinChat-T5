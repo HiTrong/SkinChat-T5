{
 "cells": [
  {
   "cell_type": "markdown",
   "metadata": {},
   "source": [
    "# Import thư viện"
   ]
  },
  {
   "cell_type": "code",
   "execution_count": 1,
   "metadata": {},
   "outputs": [
    {
     "name": "stderr",
     "output_type": "stream",
     "text": [
      "c:\\Users\\ADMIN\\Desktop\\Data\\.venv\\Lib\\site-packages\\tqdm\\auto.py:21: TqdmWarning: IProgress not found. Please update jupyter and ipywidgets. See https://ipywidgets.readthedocs.io/en/stable/user_install.html\n",
      "  from .autonotebook import tqdm as notebook_tqdm\n"
     ]
    }
   ],
   "source": [
    "import numpy as np\n",
    "import pandas as pd\n",
    "import ast\n",
    "import re\n",
    "from tqdm.auto import tqdm"
   ]
  },
  {
   "cell_type": "markdown",
   "metadata": {},
   "source": [
    "# Làm sạch từng nguồn và hợp nhất\n",
    "\n",
    "Các thao tác làm sạch bao gồm:\n",
    "- Loại bỏ các dòng null và duplicate\n",
    "- Loại bỏ các thông tin gây nhiễu như: các kí tự lặp lại (........, ----, \"\\n\\n\\n\\n\",...)\n",
    "- Loại bỏ các thông tin cá nhân, tổ chức như: email, gmail, yahoo, số điện thoại,...\n",
    "- Loại bỏ các conversation (hội thoại) mà rỗng, không có câu hỏi hoặc câu trả lời"
   ]
  },
  {
   "cell_type": "code",
   "execution_count": 2,
   "metadata": {},
   "outputs": [],
   "source": [
    "def drop_noise(text):\n",
    "    # Loại bỏ các chuỗi lặp lại từ 3 lần trở lên và thay thế bằng 1 lần\n",
    "    text = re.sub(r'(.)\\1{2,}', r'\\1', text)\n",
    "    \n",
    "    # Thay thế các ký tự xuống dòng liên tục (\\n\\n\\n\\n) bằng 1 \\n\n",
    "    text = re.sub(r'\\n\\s*\\n+', '\\n', text)\n",
    "    return text\n",
    "    \n",
    "def drop_personal_information(text):\n",
    "    # Loại bỏ email (gmail, yahoo,...)\n",
    "    text = re.sub(r'\\b[A-Za-z0-9._%+-]+@[A-Za-z0-9.-]+\\.[A-Za-z]{2,}\\b', '', text)\n",
    "    \n",
    "    # Loại bỏ số điện thoại (các chuỗi gồm 10-11 số liên tiếp)\n",
    "    text = re.sub(r'\\b\\d{10,11}\\b', '', text)\n",
    "    \n",
    "    return text\n",
    "\n",
    "def str2lst_of_dict(text):\n",
    "    try:\n",
    "        string = text.replace(\"\\n\", \"\\\\n\")\n",
    "\n",
    "        # Bây giờ dùng ast.literal_eval\n",
    "        data = ast.literal_eval(string)\n",
    "        return data\n",
    "    except:\n",
    "        print(\"Phát hiện lỗi!:\", text)\n",
    "        return None\n",
    "    \n",
    "def conversation_processing(conversation):\n",
    "    for message in conversation:\n",
    "        if message[\"message\"] is None or message[\"message\"] == \"null\":\n",
    "            return None\n",
    "        message[\"message\"] = drop_noise(drop_personal_information(message[\"message\"]))\n",
    "    return conversation    "
   ]
  },
  {
   "cell_type": "code",
   "execution_count": 3,
   "metadata": {},
   "outputs": [
    {
     "name": "stderr",
     "output_type": "stream",
     "text": [
      "Processing bv115_data_crawling.csv:: 100%|██████████| 23/23 [00:00<00:00, 4607.14it/s]\n",
      "Processing bvnd2_data_crawling.csv:: 100%|██████████| 50/50 [00:00<00:00, 6250.45it/s]\n",
      "Processing eDoctor_data_crawling.csv:: 100%|██████████| 371/371 [00:00<00:00, 5610.55it/s]\n"
     ]
    },
    {
     "name": "stdout",
     "output_type": "stream",
     "text": [
      "Phát hiện lỗi!: [{\"role\": \"Người dùng\", \"message\": null}, {\"role\": \"Bác sĩ\", \"message\": null}]\n",
      "Phát hiện lỗi!: [{\"role\": \"Người dùng\", \"message\": null}, {\"role\": \"Bác sĩ\", \"message\": null}]\n",
      "Phát hiện lỗi!: [{\"role\": \"Người dùng\", \"message\": null}, {\"role\": \"Bác sĩ\", \"message\": null}]\n",
      "Phát hiện lỗi!: [{\"role\": \"Người dùng\", \"message\": null}, {\"role\": \"Bác sĩ\", \"message\": null}]\n",
      "Phát hiện lỗi!: [{\"role\": \"Người dùng\", \"message\": null}, {\"role\": \"Bác sĩ\", \"message\": null}]\n",
      "Phát hiện lỗi!: [{\"role\": \"Người dùng\", \"message\": null}, {\"role\": \"Bác sĩ\", \"message\": null}]\n",
      "Phát hiện lỗi!: [{\"role\": \"Người dùng\", \"message\": null}, {\"role\": \"Bác sĩ\", \"message\": null}]\n",
      "Phát hiện lỗi!: [{\"role\": \"Người dùng\", \"message\": null}, {\"role\": \"Bác sĩ\", \"message\": null}]\n",
      "Phát hiện lỗi!: [{\"role\": \"Người dùng\", \"message\": null}, {\"role\": \"Bác sĩ\", \"message\": null}]\n",
      "Phát hiện lỗi!: [{\"role\": \"Người dùng\", \"message\": null}, {\"role\": \"Bác sĩ\", \"message\": null}]\n",
      "Phát hiện lỗi!: [{\"role\": \"Người dùng\", \"message\": null}, {\"role\": \"Bác sĩ\", \"message\": null}]\n",
      "Phát hiện lỗi!: [{\"role\": \"Người dùng\", \"message\": null}, {\"role\": \"Bác sĩ\", \"message\": null}]\n",
      "Phát hiện lỗi!: [{\"role\": \"Người dùng\", \"message\": null}, {\"role\": \"Bác sĩ\", \"message\": null}]\n",
      "Phát hiện lỗi!: [{\"role\": \"Người dùng\", \"message\": null}, {\"role\": \"Bác sĩ\", \"message\": null}]\n",
      "Phát hiện lỗi!: [{\"role\": \"Người dùng\", \"message\": null}, {\"role\": \"Bác sĩ\", \"message\": null}]\n",
      "Phát hiện lỗi!: [{\"role\": \"Người dùng\", \"message\": null}, {\"role\": \"Bác sĩ\", \"message\": null}]\n",
      "Phát hiện lỗi!: [{\"role\": \"Người dùng\", \"message\": null}, {\"role\": \"Bác sĩ\", \"message\": null}]\n",
      "Phát hiện lỗi!: [{\"role\": \"Người dùng\", \"message\": null}, {\"role\": \"Bác sĩ\", \"message\": null}]\n",
      "Phát hiện lỗi!: [{\"role\": \"Người dùng\", \"message\": null}, {\"role\": \"Bác sĩ\", \"message\": null}]\n",
      "Phát hiện lỗi!: [{\"role\": \"Người dùng\", \"message\": null}, {\"role\": \"Bác sĩ\", \"message\": null}]\n",
      "Phát hiện lỗi!: [{\"role\": \"Người dùng\", \"message\": null}, {\"role\": \"Bác sĩ\", \"message\": null}]\n",
      "Phát hiện lỗi!: [{\"role\": \"Người dùng\", \"message\": null}, {\"role\": \"Bác sĩ\", \"message\": null}]\n",
      "Phát hiện lỗi!: [{\"role\": \"Người dùng\", \"message\": null}, {\"role\": \"Bác sĩ\", \"message\": null}]\n",
      "Phát hiện lỗi!: [{\"role\": \"Người dùng\", \"message\": null}, {\"role\": \"Bác sĩ\", \"message\": null}]\n",
      "Phát hiện lỗi!: [{\"role\": \"Người dùng\", \"message\": null}, {\"role\": \"Bác sĩ\", \"message\": null}]\n",
      "Phát hiện lỗi!: [{\"role\": \"Người dùng\", \"message\": null}, {\"role\": \"Bác sĩ\", \"message\": null}]\n",
      "Phát hiện lỗi!: [{\"role\": \"Người dùng\", \"message\": null}, {\"role\": \"Bác sĩ\", \"message\": null}]\n",
      "Phát hiện lỗi!: [{\"role\": \"Người dùng\", \"message\": null}, {\"role\": \"Bác sĩ\", \"message\": null}]\n",
      "Phát hiện lỗi!: [{\"role\": \"Người dùng\", \"message\": null}, {\"role\": \"Bác sĩ\", \"message\": null}]\n",
      "Phát hiện lỗi!: [{\"role\": \"Người dùng\", \"message\": null}, {\"role\": \"Bác sĩ\", \"message\": null}]\n",
      "Phát hiện lỗi!: [{\"role\": \"Người dùng\", \"message\": null}, {\"role\": \"Bác sĩ\", \"message\": null}]\n",
      "Phát hiện lỗi!: [{\"role\": \"Người dùng\", \"message\": null}, {\"role\": \"Bác sĩ\", \"message\": null}]\n",
      "Phát hiện lỗi!: [{\"role\": \"Người dùng\", \"message\": null}, {\"role\": \"Bác sĩ\", \"message\": null}]\n",
      "Phát hiện lỗi!: [{\"role\": \"Người dùng\", \"message\": null}, {\"role\": \"Bác sĩ\", \"message\": null}]\n",
      "Phát hiện lỗi!: [{\"role\": \"Người dùng\", \"message\": null}, {\"role\": \"Bác sĩ\", \"message\": null}]\n",
      "Phát hiện lỗi!: [{\"role\": \"Người dùng\", \"message\": null}, {\"role\": \"Bác sĩ\", \"message\": null}]\n"
     ]
    },
    {
     "name": "stderr",
     "output_type": "stream",
     "text": [
      "Processing Express_data_crawling.csv:: 100%|██████████| 32/32 [00:00<00:00, 6355.31it/s]\n",
      "Processing Ivie_data_crawling.csv:: 100%|██████████| 611/611 [00:00<00:00, 8899.35it/s]\n",
      "Processing VietSkin_data_crawling.csv:: 100%|██████████| 6/6 [00:00<00:00, 6001.87it/s]\n"
     ]
    }
   ],
   "source": [
    "csv_path = [\"bv115_data_crawling.csv\",\"bvnd2_data_crawling.csv\",\"eDoctor_data_crawling.csv\", \"Express_data_crawling.csv\", \"Ivie_data_crawling.csv\", \"VietSkin_data_crawling.csv\"]\n",
    "data_dict = {\n",
    "    \"source\": [],\n",
    "    \"url\": [],\n",
    "    \"conversation\": []\n",
    "}\n",
    "for path in csv_path:\n",
    "    df = pd.read_csv(path)\n",
    "    for i in tqdm(range(df.shape[0]), desc=f\"Processing {path}:\"):\n",
    "        data = df.iloc[i]\n",
    "        source = data.source\n",
    "        url = data.url\n",
    "        conversation_text = data.conversation\n",
    "        conversation = str2lst_of_dict(conversation_text)\n",
    "        if conversation is None:\n",
    "            continue\n",
    "        conversation = conversation_processing(conversation)\n",
    "        if conversation is None:\n",
    "            continue\n",
    "        data_dict[\"source\"].append(source)\n",
    "        data_dict[\"url\"].append(url)\n",
    "        data_dict[\"conversation\"].append(conversation)\n",
    "all_df = pd.DataFrame(data_dict)"
   ]
  },
  {
   "cell_type": "code",
   "execution_count": 4,
   "metadata": {},
   "outputs": [
    {
     "data": {
      "text/plain": [
       "(1057, 3)"
      ]
     },
     "execution_count": 4,
     "metadata": {},
     "output_type": "execute_result"
    }
   ],
   "source": [
    "all_df.shape"
   ]
  },
  {
   "cell_type": "code",
   "execution_count": 5,
   "metadata": {},
   "outputs": [
    {
     "data": {
      "text/html": [
       "<div>\n",
       "<style scoped>\n",
       "    .dataframe tbody tr th:only-of-type {\n",
       "        vertical-align: middle;\n",
       "    }\n",
       "\n",
       "    .dataframe tbody tr th {\n",
       "        vertical-align: top;\n",
       "    }\n",
       "\n",
       "    .dataframe thead th {\n",
       "        text-align: right;\n",
       "    }\n",
       "</style>\n",
       "<table border=\"1\" class=\"dataframe\">\n",
       "  <thead>\n",
       "    <tr style=\"text-align: right;\">\n",
       "      <th></th>\n",
       "      <th>source</th>\n",
       "      <th>url</th>\n",
       "      <th>conversation</th>\n",
       "    </tr>\n",
       "  </thead>\n",
       "  <tbody>\n",
       "    <tr>\n",
       "      <th>0</th>\n",
       "      <td>Bệnh viện 115</td>\n",
       "      <td>https://benhvien115.com.vn/tu-van-bac-si/ths-b...</td>\n",
       "      <td>[{'role': 'Người dùng', 'message': 'Dạ em chào...</td>\n",
       "    </tr>\n",
       "    <tr>\n",
       "      <th>1</th>\n",
       "      <td>Bệnh viện 115</td>\n",
       "      <td>https://benhvien115.com.vn/tu-van-bac-si/ths-b...</td>\n",
       "      <td>[{'role': 'Người dùng', 'message': 'Chào BS,\n",
       "M...</td>\n",
       "    </tr>\n",
       "    <tr>\n",
       "      <th>2</th>\n",
       "      <td>Bệnh viện 115</td>\n",
       "      <td>https://benhvien115.com.vn/tu-van-bac-si/ths-b...</td>\n",
       "      <td>[{'role': 'Người dùng', 'message': 'BS ơi giúp...</td>\n",
       "    </tr>\n",
       "    <tr>\n",
       "      <th>3</th>\n",
       "      <td>Bệnh viện 115</td>\n",
       "      <td>https://benhvien115.com.vn/tu-van-bac-si/ths-b...</td>\n",
       "      <td>[{'role': 'Người dùng', 'message': 'Mông của e...</td>\n",
       "    </tr>\n",
       "    <tr>\n",
       "      <th>4</th>\n",
       "      <td>Bệnh viện 115</td>\n",
       "      <td>https://benhvien115.com.vn/tu-van-bac-si/ths-b...</td>\n",
       "      <td>[{'role': 'Người dùng', 'message': 'Chào BS,\n",
       "E...</td>\n",
       "    </tr>\n",
       "  </tbody>\n",
       "</table>\n",
       "</div>"
      ],
      "text/plain": [
       "          source                                                url  \\\n",
       "0  Bệnh viện 115  https://benhvien115.com.vn/tu-van-bac-si/ths-b...   \n",
       "1  Bệnh viện 115  https://benhvien115.com.vn/tu-van-bac-si/ths-b...   \n",
       "2  Bệnh viện 115  https://benhvien115.com.vn/tu-van-bac-si/ths-b...   \n",
       "3  Bệnh viện 115  https://benhvien115.com.vn/tu-van-bac-si/ths-b...   \n",
       "4  Bệnh viện 115  https://benhvien115.com.vn/tu-van-bac-si/ths-b...   \n",
       "\n",
       "                                        conversation  \n",
       "0  [{'role': 'Người dùng', 'message': 'Dạ em chào...  \n",
       "1  [{'role': 'Người dùng', 'message': 'Chào BS,\n",
       "M...  \n",
       "2  [{'role': 'Người dùng', 'message': 'BS ơi giúp...  \n",
       "3  [{'role': 'Người dùng', 'message': 'Mông của e...  \n",
       "4  [{'role': 'Người dùng', 'message': 'Chào BS,\n",
       "E...  "
      ]
     },
     "execution_count": 5,
     "metadata": {},
     "output_type": "execute_result"
    }
   ],
   "source": [
    "all_df.head()"
   ]
  },
  {
   "cell_type": "code",
   "execution_count": 6,
   "metadata": {},
   "outputs": [],
   "source": [
    "all_df.to_csv(\"data_crawling.csv\",index=False)"
   ]
  },
  {
   "cell_type": "code",
   "execution_count": null,
   "metadata": {},
   "outputs": [],
   "source": []
  }
 ],
 "metadata": {
  "kernelspec": {
   "display_name": ".venv",
   "language": "python",
   "name": "python3"
  },
  "language_info": {
   "codemirror_mode": {
    "name": "ipython",
    "version": 3
   },
   "file_extension": ".py",
   "mimetype": "text/x-python",
   "name": "python",
   "nbconvert_exporter": "python",
   "pygments_lexer": "ipython3",
   "version": "3.11.1"
  }
 },
 "nbformat": 4,
 "nbformat_minor": 2
}
