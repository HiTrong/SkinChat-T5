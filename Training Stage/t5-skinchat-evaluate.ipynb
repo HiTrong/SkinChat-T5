{
 "cells": [
  {
   "cell_type": "markdown",
   "id": "9d8472b7",
   "metadata": {
    "papermill": {
     "duration": 0.006003,
     "end_time": "2024-11-14T17:35:10.752611",
     "exception": false,
     "start_time": "2024-11-14T17:35:10.746608",
     "status": "completed"
    },
    "tags": []
   },
   "source": [
    "# Download Package"
   ]
  },
  {
   "cell_type": "code",
   "execution_count": 1,
   "id": "d9162d5e",
   "metadata": {
    "execution": {
     "iopub.execute_input": "2024-11-14T17:35:10.764645Z",
     "iopub.status.busy": "2024-11-14T17:35:10.764299Z",
     "iopub.status.idle": "2024-11-14T17:35:49.227579Z",
     "shell.execute_reply": "2024-11-14T17:35:49.226546Z"
    },
    "papermill": {
     "duration": 38.471822,
     "end_time": "2024-11-14T17:35:49.229905",
     "exception": false,
     "start_time": "2024-11-14T17:35:10.758083",
     "status": "completed"
    },
    "tags": []
   },
   "outputs": [
    {
     "name": "stdout",
     "output_type": "stream",
     "text": [
      "Collecting simplet5\r\n",
      "  Downloading simplet5-0.1.4.tar.gz (7.3 kB)\r\n",
      "  Preparing metadata (setup.py) ... \u001b[?25l-\b \bdone\r\n",
      "\u001b[?25hCollecting rouge_score\r\n",
      "  Downloading rouge_score-0.1.2.tar.gz (17 kB)\r\n",
      "  Preparing metadata (setup.py) ... \u001b[?25l-\b \bdone\r\n",
      "\u001b[?25hRequirement already satisfied: numpy in /opt/conda/lib/python3.10/site-packages (from simplet5) (1.26.4)\r\n",
      "Requirement already satisfied: pandas in /opt/conda/lib/python3.10/site-packages (from simplet5) (2.2.2)\r\n",
      "Requirement already satisfied: sentencepiece in /opt/conda/lib/python3.10/site-packages (from simplet5) (0.2.0)\r\n",
      "Requirement already satisfied: torch!=1.8.0,>=1.7.0 in /opt/conda/lib/python3.10/site-packages (from simplet5) (2.4.0)\r\n",
      "Collecting transformers==4.16.2 (from simplet5)\r\n",
      "  Downloading transformers-4.16.2-py3-none-any.whl.metadata (61 kB)\r\n",
      "\u001b[2K     \u001b[90m━━━━━━━━━━━━━━━━━━━━━━━━━━━━━━━━━━━━━━━━\u001b[0m \u001b[32m61.8/61.8 kB\u001b[0m \u001b[31m1.9 MB/s\u001b[0m eta \u001b[36m0:00:00\u001b[0m\r\n",
      "\u001b[?25hCollecting pytorch-lightning==1.5.10 (from simplet5)\r\n",
      "  Downloading pytorch_lightning-1.5.10-py3-none-any.whl.metadata (31 kB)\r\n",
      "Requirement already satisfied: future>=0.17.1 in /opt/conda/lib/python3.10/site-packages (from pytorch-lightning==1.5.10->simplet5) (1.0.0)\r\n",
      "Requirement already satisfied: tqdm>=4.41.0 in /opt/conda/lib/python3.10/site-packages (from pytorch-lightning==1.5.10->simplet5) (4.66.4)\r\n",
      "Requirement already satisfied: PyYAML>=5.1 in /opt/conda/lib/python3.10/site-packages (from pytorch-lightning==1.5.10->simplet5) (6.0.2)\r\n",
      "Requirement already satisfied: fsspec!=2021.06.0,>=2021.05.0 in /opt/conda/lib/python3.10/site-packages (from fsspec[http]!=2021.06.0,>=2021.05.0->pytorch-lightning==1.5.10->simplet5) (2024.6.1)\r\n",
      "Requirement already satisfied: tensorboard>=2.2.0 in /opt/conda/lib/python3.10/site-packages (from pytorch-lightning==1.5.10->simplet5) (2.16.2)\r\n",
      "Requirement already satisfied: torchmetrics>=0.4.1 in /opt/conda/lib/python3.10/site-packages (from pytorch-lightning==1.5.10->simplet5) (1.4.2)\r\n",
      "Collecting pyDeprecate==0.3.1 (from pytorch-lightning==1.5.10->simplet5)\r\n",
      "  Downloading pyDeprecate-0.3.1-py3-none-any.whl.metadata (10 kB)\r\n",
      "Requirement already satisfied: packaging>=17.0 in /opt/conda/lib/python3.10/site-packages (from pytorch-lightning==1.5.10->simplet5) (21.3)\r\n",
      "Requirement already satisfied: typing-extensions in /opt/conda/lib/python3.10/site-packages (from pytorch-lightning==1.5.10->simplet5) (4.12.2)\r\n",
      "Collecting setuptools==59.5.0 (from pytorch-lightning==1.5.10->simplet5)\r\n",
      "  Downloading setuptools-59.5.0-py3-none-any.whl.metadata (5.0 kB)\r\n",
      "Requirement already satisfied: filelock in /opt/conda/lib/python3.10/site-packages (from transformers==4.16.2->simplet5) (3.15.1)\r\n",
      "Requirement already satisfied: huggingface-hub<1.0,>=0.1.0 in /opt/conda/lib/python3.10/site-packages (from transformers==4.16.2->simplet5) (0.25.1)\r\n",
      "Requirement already satisfied: regex!=2019.12.17 in /opt/conda/lib/python3.10/site-packages (from transformers==4.16.2->simplet5) (2024.5.15)\r\n",
      "Requirement already satisfied: requests in /opt/conda/lib/python3.10/site-packages (from transformers==4.16.2->simplet5) (2.32.3)\r\n",
      "Collecting sacremoses (from transformers==4.16.2->simplet5)\r\n",
      "  Downloading sacremoses-0.1.1-py3-none-any.whl.metadata (8.3 kB)\r\n",
      "Requirement already satisfied: tokenizers!=0.11.3,>=0.10.1 in /opt/conda/lib/python3.10/site-packages (from transformers==4.16.2->simplet5) (0.20.0)\r\n",
      "Requirement already satisfied: absl-py in /opt/conda/lib/python3.10/site-packages (from rouge_score) (1.4.0)\r\n",
      "Requirement already satisfied: nltk in /opt/conda/lib/python3.10/site-packages (from rouge_score) (3.2.4)\r\n",
      "Requirement already satisfied: six>=1.14.0 in /opt/conda/lib/python3.10/site-packages (from rouge_score) (1.16.0)\r\n",
      "Requirement already satisfied: sympy in /opt/conda/lib/python3.10/site-packages (from torch!=1.8.0,>=1.7.0->simplet5) (1.13.3)\r\n",
      "Requirement already satisfied: networkx in /opt/conda/lib/python3.10/site-packages (from torch!=1.8.0,>=1.7.0->simplet5) (3.3)\r\n",
      "Requirement already satisfied: jinja2 in /opt/conda/lib/python3.10/site-packages (from torch!=1.8.0,>=1.7.0->simplet5) (3.1.4)\r\n",
      "Requirement already satisfied: python-dateutil>=2.8.2 in /opt/conda/lib/python3.10/site-packages (from pandas->simplet5) (2.9.0.post0)\r\n",
      "Requirement already satisfied: pytz>=2020.1 in /opt/conda/lib/python3.10/site-packages (from pandas->simplet5) (2024.1)\r\n",
      "Requirement already satisfied: tzdata>=2022.7 in /opt/conda/lib/python3.10/site-packages (from pandas->simplet5) (2024.1)\r\n",
      "Requirement already satisfied: aiohttp!=4.0.0a0,!=4.0.0a1 in /opt/conda/lib/python3.10/site-packages (from fsspec[http]!=2021.06.0,>=2021.05.0->pytorch-lightning==1.5.10->simplet5) (3.9.5)\r\n",
      "Requirement already satisfied: pyparsing!=3.0.5,>=2.0.2 in /opt/conda/lib/python3.10/site-packages (from packaging>=17.0->pytorch-lightning==1.5.10->simplet5) (3.1.2)\r\n",
      "Requirement already satisfied: grpcio>=1.48.2 in /opt/conda/lib/python3.10/site-packages (from tensorboard>=2.2.0->pytorch-lightning==1.5.10->simplet5) (1.62.2)\r\n",
      "Requirement already satisfied: markdown>=2.6.8 in /opt/conda/lib/python3.10/site-packages (from tensorboard>=2.2.0->pytorch-lightning==1.5.10->simplet5) (3.6)\r\n",
      "Requirement already satisfied: protobuf!=4.24.0,>=3.19.6 in /opt/conda/lib/python3.10/site-packages (from tensorboard>=2.2.0->pytorch-lightning==1.5.10->simplet5) (3.20.3)\r\n",
      "Requirement already satisfied: tensorboard-data-server<0.8.0,>=0.7.0 in /opt/conda/lib/python3.10/site-packages (from tensorboard>=2.2.0->pytorch-lightning==1.5.10->simplet5) (0.7.2)\r\n",
      "Requirement already satisfied: werkzeug>=1.0.1 in /opt/conda/lib/python3.10/site-packages (from tensorboard>=2.2.0->pytorch-lightning==1.5.10->simplet5) (3.0.4)\r\n",
      "Requirement already satisfied: lightning-utilities>=0.8.0 in /opt/conda/lib/python3.10/site-packages (from torchmetrics>=0.4.1->pytorch-lightning==1.5.10->simplet5) (0.11.7)\r\n",
      "Requirement already satisfied: MarkupSafe>=2.0 in /opt/conda/lib/python3.10/site-packages (from jinja2->torch!=1.8.0,>=1.7.0->simplet5) (2.1.5)\r\n",
      "Requirement already satisfied: charset-normalizer<4,>=2 in /opt/conda/lib/python3.10/site-packages (from requests->transformers==4.16.2->simplet5) (3.3.2)\r\n",
      "Requirement already satisfied: idna<4,>=2.5 in /opt/conda/lib/python3.10/site-packages (from requests->transformers==4.16.2->simplet5) (3.7)\r\n",
      "Requirement already satisfied: urllib3<3,>=1.21.1 in /opt/conda/lib/python3.10/site-packages (from requests->transformers==4.16.2->simplet5) (1.26.18)\r\n",
      "Requirement already satisfied: certifi>=2017.4.17 in /opt/conda/lib/python3.10/site-packages (from requests->transformers==4.16.2->simplet5) (2024.8.30)\r\n",
      "Requirement already satisfied: click in /opt/conda/lib/python3.10/site-packages (from sacremoses->transformers==4.16.2->simplet5) (8.1.7)\r\n",
      "Requirement already satisfied: joblib in /opt/conda/lib/python3.10/site-packages (from sacremoses->transformers==4.16.2->simplet5) (1.4.2)\r\n",
      "Requirement already satisfied: mpmath<1.4,>=1.1.0 in /opt/conda/lib/python3.10/site-packages (from sympy->torch!=1.8.0,>=1.7.0->simplet5) (1.3.0)\r\n",
      "Requirement already satisfied: aiosignal>=1.1.2 in /opt/conda/lib/python3.10/site-packages (from aiohttp!=4.0.0a0,!=4.0.0a1->fsspec[http]!=2021.06.0,>=2021.05.0->pytorch-lightning==1.5.10->simplet5) (1.3.1)\r\n",
      "Requirement already satisfied: attrs>=17.3.0 in /opt/conda/lib/python3.10/site-packages (from aiohttp!=4.0.0a0,!=4.0.0a1->fsspec[http]!=2021.06.0,>=2021.05.0->pytorch-lightning==1.5.10->simplet5) (23.2.0)\r\n",
      "Requirement already satisfied: frozenlist>=1.1.1 in /opt/conda/lib/python3.10/site-packages (from aiohttp!=4.0.0a0,!=4.0.0a1->fsspec[http]!=2021.06.0,>=2021.05.0->pytorch-lightning==1.5.10->simplet5) (1.4.1)\r\n",
      "Requirement already satisfied: multidict<7.0,>=4.5 in /opt/conda/lib/python3.10/site-packages (from aiohttp!=4.0.0a0,!=4.0.0a1->fsspec[http]!=2021.06.0,>=2021.05.0->pytorch-lightning==1.5.10->simplet5) (6.0.5)\r\n",
      "Requirement already satisfied: yarl<2.0,>=1.0 in /opt/conda/lib/python3.10/site-packages (from aiohttp!=4.0.0a0,!=4.0.0a1->fsspec[http]!=2021.06.0,>=2021.05.0->pytorch-lightning==1.5.10->simplet5) (1.9.4)\r\n",
      "Requirement already satisfied: async-timeout<5.0,>=4.0 in /opt/conda/lib/python3.10/site-packages (from aiohttp!=4.0.0a0,!=4.0.0a1->fsspec[http]!=2021.06.0,>=2021.05.0->pytorch-lightning==1.5.10->simplet5) (4.0.3)\r\n",
      "Downloading pytorch_lightning-1.5.10-py3-none-any.whl (527 kB)\r\n",
      "\u001b[2K   \u001b[90m━━━━━━━━━━━━━━━━━━━━━━━━━━━━━━━━━━━━━━━━\u001b[0m \u001b[32m527.7/527.7 kB\u001b[0m \u001b[31m11.3 MB/s\u001b[0m eta \u001b[36m0:00:00\u001b[0m\r\n",
      "\u001b[?25hDownloading transformers-4.16.2-py3-none-any.whl (3.5 MB)\r\n",
      "\u001b[2K   \u001b[90m━━━━━━━━━━━━━━━━━━━━━━━━━━━━━━━━━━━━━━━━\u001b[0m \u001b[32m3.5/3.5 MB\u001b[0m \u001b[31m57.3 MB/s\u001b[0m eta \u001b[36m0:00:00\u001b[0m\r\n",
      "\u001b[?25hDownloading pyDeprecate-0.3.1-py3-none-any.whl (10 kB)\r\n",
      "Downloading setuptools-59.5.0-py3-none-any.whl (952 kB)\r\n",
      "\u001b[2K   \u001b[90m━━━━━━━━━━━━━━━━━━━━━━━━━━━━━━━━━━━━━━━━\u001b[0m \u001b[32m952.4/952.4 kB\u001b[0m \u001b[31m39.4 MB/s\u001b[0m eta \u001b[36m0:00:00\u001b[0m\r\n",
      "\u001b[?25hDownloading sacremoses-0.1.1-py3-none-any.whl (897 kB)\r\n",
      "\u001b[2K   \u001b[90m━━━━━━━━━━━━━━━━━━━━━━━━━━━━━━━━━━━━━━━━\u001b[0m \u001b[32m897.5/897.5 kB\u001b[0m \u001b[31m41.8 MB/s\u001b[0m eta \u001b[36m0:00:00\u001b[0m\r\n",
      "\u001b[?25hBuilding wheels for collected packages: simplet5, rouge_score\r\n",
      "  Building wheel for simplet5 (setup.py) ... \u001b[?25l-\b \b\\\b \bdone\r\n",
      "\u001b[?25h  Created wheel for simplet5: filename=simplet5-0.1.4-py3-none-any.whl size=6854 sha256=baa57484f02de41fdd5932816fe4e7a131f07e98c89c5e7f81f3beb9d14d05aa\r\n",
      "  Stored in directory: /root/.cache/pip/wheels/b4/7d/af/743765400878438a7593f13f89fdf4004dcde0f2a8e6cb6684\r\n",
      "  Building wheel for rouge_score (setup.py) ... \u001b[?25l-\b \b\\\b \bdone\r\n",
      "\u001b[?25h  Created wheel for rouge_score: filename=rouge_score-0.1.2-py3-none-any.whl size=24934 sha256=f2a0e965f63e34ca48077db35ffb33d7ad3cfc60cb64eb581d30671b0af53c99\r\n",
      "  Stored in directory: /root/.cache/pip/wheels/5f/dd/89/461065a73be61a532ff8599a28e9beef17985c9e9c31e541b4\r\n",
      "Successfully built simplet5 rouge_score\r\n",
      "\u001b[33mDEPRECATION: pytorch-lightning 1.5.10 has a non-standard dependency specifier torch>=1.7.*. pip 24.1 will enforce this behaviour change. A possible replacement is to upgrade to a newer version of pytorch-lightning or contact the author to suggest that they release a version with a conforming dependency specifiers. Discussion can be found at https://github.com/pypa/pip/issues/12063\u001b[0m\u001b[33m\r\n",
      "\u001b[0mInstalling collected packages: setuptools, sacremoses, pyDeprecate, rouge_score, transformers, pytorch-lightning, simplet5\r\n",
      "  Attempting uninstall: setuptools\r\n",
      "    Found existing installation: setuptools 70.0.0\r\n",
      "    Uninstalling setuptools-70.0.0:\r\n",
      "      Successfully uninstalled setuptools-70.0.0\r\n",
      "  Attempting uninstall: transformers\r\n",
      "    Found existing installation: transformers 4.45.1\r\n",
      "    Uninstalling transformers-4.45.1:\r\n",
      "      Successfully uninstalled transformers-4.45.1\r\n",
      "  Attempting uninstall: pytorch-lightning\r\n",
      "    Found existing installation: pytorch-lightning 2.4.0\r\n",
      "    Uninstalling pytorch-lightning-2.4.0:\r\n",
      "      Successfully uninstalled pytorch-lightning-2.4.0\r\n",
      "\u001b[31mERROR: pip's dependency resolver does not currently take into account all the packages that are installed. This behaviour is the source of the following dependency conflicts.\r\n",
      "arviz 0.20.0 requires setuptools>=60.0.0, but you have setuptools 59.5.0 which is incompatible.\r\n",
      "conda 24.9.0 requires packaging>=23.0, but you have packaging 21.3 which is incompatible.\r\n",
      "conda 24.9.0 requires setuptools>=60.0.0, but you have setuptools 59.5.0 which is incompatible.\r\n",
      "jupyterlab 4.2.5 requires jupyter-lsp>=2.0.0, but you have jupyter-lsp 1.5.1 which is incompatible.\r\n",
      "jupyterlab-lsp 5.1.0 requires jupyter-lsp>=2.0.0, but you have jupyter-lsp 1.5.1 which is incompatible.\r\n",
      "kaggle-environments 1.14.15 requires transformers>=4.33.1, but you have transformers 4.16.2 which is incompatible.\u001b[0m\u001b[31m\r\n",
      "\u001b[0mSuccessfully installed pyDeprecate-0.3.1 pytorch-lightning-1.5.10 rouge_score-0.1.2 sacremoses-0.1.1 setuptools-59.5.0 simplet5-0.1.4 transformers-4.16.2\r\n"
     ]
    }
   ],
   "source": [
    "!pip install simplet5 rouge_score "
   ]
  },
  {
   "cell_type": "markdown",
   "id": "8730f20a",
   "metadata": {
    "papermill": {
     "duration": 0.00893,
     "end_time": "2024-11-14T17:35:49.249440",
     "exception": false,
     "start_time": "2024-11-14T17:35:49.240510",
     "status": "completed"
    },
    "tags": []
   },
   "source": [
    "# Import Library"
   ]
  },
  {
   "cell_type": "code",
   "execution_count": 2,
   "id": "97c9aadc",
   "metadata": {
    "execution": {
     "iopub.execute_input": "2024-11-14T17:35:49.269100Z",
     "iopub.status.busy": "2024-11-14T17:35:49.268760Z",
     "iopub.status.idle": "2024-11-14T17:36:09.483052Z",
     "shell.execute_reply": "2024-11-14T17:36:09.482029Z"
    },
    "papermill": {
     "duration": 20.227154,
     "end_time": "2024-11-14T17:36:09.485624",
     "exception": false,
     "start_time": "2024-11-14T17:35:49.258470",
     "status": "completed"
    },
    "tags": []
   },
   "outputs": [],
   "source": [
    "# For data\n",
    "import numpy as np\n",
    "import pandas as pd\n",
    "from sklearn.model_selection import train_test_split\n",
    "\n",
    "# For model, tokenizer\n",
    "from simplet5 import SimpleT5\n",
    "import transformers\n",
    "from transformers import AutoTokenizer, AutoConfig, T5ForConditionalGeneration\n",
    "\n",
    "# For evaluate\n",
    "from nltk.translate.bleu_score import sentence_bleu, SmoothingFunction\n",
    "from rouge_score import rouge_scorer\n",
    "\n",
    "# For visualization\n",
    "import matplotlib.pyplot as plt\n",
    "\n",
    "# For neccessary\n",
    "import re\n",
    "import os\n",
    "from tqdm.auto import tqdm\n",
    "import warnings\n",
    "warnings.filterwarnings(\"ignore\")"
   ]
  },
  {
   "cell_type": "markdown",
   "id": "915b8d8f",
   "metadata": {
    "papermill": {
     "duration": 0.009015,
     "end_time": "2024-11-14T17:36:09.511714",
     "exception": false,
     "start_time": "2024-11-14T17:36:09.502699",
     "status": "completed"
    },
    "tags": []
   },
   "source": [
    "# Load dataset"
   ]
  },
  {
   "cell_type": "code",
   "execution_count": 3,
   "id": "3d9562a6",
   "metadata": {
    "execution": {
     "iopub.execute_input": "2024-11-14T17:36:09.531682Z",
     "iopub.status.busy": "2024-11-14T17:36:09.531042Z",
     "iopub.status.idle": "2024-11-14T17:36:13.062673Z",
     "shell.execute_reply": "2024-11-14T17:36:13.061754Z"
    },
    "papermill": {
     "duration": 3.543923,
     "end_time": "2024-11-14T17:36:13.064822",
     "exception": false,
     "start_time": "2024-11-14T17:36:09.520899",
     "status": "completed"
    },
    "tags": []
   },
   "outputs": [
    {
     "data": {
      "text/plain": [
       "((220697, 2), (130, 2), (130, 2))"
      ]
     },
     "execution_count": 3,
     "metadata": {},
     "output_type": "execute_result"
    }
   ],
   "source": [
    "train_df = pd.read_csv(\"/kaggle/input/t5-skinchat-data-tokenizer-preparation/data_train.csv\")\n",
    "valid_df = pd.read_csv(\"/kaggle/input/t5-skinchat-data-tokenizer-preparation/data_valid.csv\")\n",
    "test_df = pd.read_csv(\"/kaggle/input/t5-skinchat-data-tokenizer-preparation/data_test.csv\")\n",
    "\n",
    "train_df.shape, valid_df.shape, test_df.shape"
   ]
  },
  {
   "cell_type": "markdown",
   "id": "0df99940",
   "metadata": {
    "papermill": {
     "duration": 0.00914,
     "end_time": "2024-11-14T17:36:13.083856",
     "exception": false,
     "start_time": "2024-11-14T17:36:13.074716",
     "status": "completed"
    },
    "tags": []
   },
   "source": [
    "# Load Tokenizer"
   ]
  },
  {
   "cell_type": "code",
   "execution_count": 4,
   "id": "0ea51b56",
   "metadata": {
    "execution": {
     "iopub.execute_input": "2024-11-14T17:36:13.103805Z",
     "iopub.status.busy": "2024-11-14T17:36:13.103474Z",
     "iopub.status.idle": "2024-11-14T17:36:13.107546Z",
     "shell.execute_reply": "2024-11-14T17:36:13.106704Z"
    },
    "papermill": {
     "duration": 0.016097,
     "end_time": "2024-11-14T17:36:13.109380",
     "exception": false,
     "start_time": "2024-11-14T17:36:13.093283",
     "status": "completed"
    },
    "tags": []
   },
   "outputs": [],
   "source": [
    "MODEL_NAME = \"t5-base\"\n",
    "MAX_VOCAB = 20000"
   ]
  },
  {
   "cell_type": "code",
   "execution_count": 5,
   "id": "d5d9e9de",
   "metadata": {
    "execution": {
     "iopub.execute_input": "2024-11-14T17:36:13.129309Z",
     "iopub.status.busy": "2024-11-14T17:36:13.128844Z",
     "iopub.status.idle": "2024-11-14T17:36:13.229710Z",
     "shell.execute_reply": "2024-11-14T17:36:13.228905Z"
    },
    "papermill": {
     "duration": 0.113164,
     "end_time": "2024-11-14T17:36:13.231931",
     "exception": false,
     "start_time": "2024-11-14T17:36:13.118767",
     "status": "completed"
    },
    "tags": []
   },
   "outputs": [],
   "source": [
    "new_tokenizer = AutoTokenizer.from_pretrained(\"/kaggle/input/t5-skinchat-training-4/outputs/simplet5-epoch-4-train-loss-0.7205-val-loss-0.7586/\")"
   ]
  },
  {
   "cell_type": "markdown",
   "id": "a1561e16",
   "metadata": {
    "papermill": {
     "duration": 0.00906,
     "end_time": "2024-11-14T17:36:13.250510",
     "exception": false,
     "start_time": "2024-11-14T17:36:13.241450",
     "status": "completed"
    },
    "tags": []
   },
   "source": [
    "# Load Model"
   ]
  },
  {
   "cell_type": "code",
   "execution_count": 6,
   "id": "fcf1eb29",
   "metadata": {
    "execution": {
     "iopub.execute_input": "2024-11-14T17:36:13.270810Z",
     "iopub.status.busy": "2024-11-14T17:36:13.270053Z",
     "iopub.status.idle": "2024-11-14T17:36:19.575778Z",
     "shell.execute_reply": "2024-11-14T17:36:19.574912Z"
    },
    "papermill": {
     "duration": 6.318589,
     "end_time": "2024-11-14T17:36:19.578272",
     "exception": false,
     "start_time": "2024-11-14T17:36:13.259683",
     "status": "completed"
    },
    "tags": []
   },
   "outputs": [],
   "source": [
    "model = T5ForConditionalGeneration.from_pretrained(\"/kaggle/input/t5-skinchat-training-4/outputs/simplet5-epoch-4-train-loss-0.7205-val-loss-0.7586/\")"
   ]
  },
  {
   "cell_type": "code",
   "execution_count": 7,
   "id": "ad5a2381",
   "metadata": {
    "execution": {
     "iopub.execute_input": "2024-11-14T17:36:19.600165Z",
     "iopub.status.busy": "2024-11-14T17:36:19.599847Z",
     "iopub.status.idle": "2024-11-14T17:36:20.091199Z",
     "shell.execute_reply": "2024-11-14T17:36:20.090196Z"
    },
    "papermill": {
     "duration": 0.503984,
     "end_time": "2024-11-14T17:36:20.093585",
     "exception": false,
     "start_time": "2024-11-14T17:36:19.589601",
     "status": "completed"
    },
    "tags": []
   },
   "outputs": [],
   "source": [
    "# instantiate\n",
    "simplet5 = SimpleT5()\n",
    "\n",
    "simplet5.model = model\n",
    "simplet5.load_model(\"/kaggle/input/t5-skinchat-training-4/outputs/simplet5-epoch-4-train-loss-0.7205-val-loss-0.7586/\", use_gpu=True)\n",
    "simplet5.tokenizer = new_tokenizer"
   ]
  },
  {
   "cell_type": "code",
   "execution_count": 8,
   "id": "80f6e44b",
   "metadata": {
    "execution": {
     "iopub.execute_input": "2024-11-14T17:36:20.113593Z",
     "iopub.status.busy": "2024-11-14T17:36:20.113256Z",
     "iopub.status.idle": "2024-11-14T17:36:20.126570Z",
     "shell.execute_reply": "2024-11-14T17:36:20.125680Z"
    },
    "papermill": {
     "duration": 0.025387,
     "end_time": "2024-11-14T17:36:20.128435",
     "exception": false,
     "start_time": "2024-11-14T17:36:20.103048",
     "status": "completed"
    },
    "tags": []
   },
   "outputs": [
    {
     "name": "stdout",
     "output_type": "stream",
     "text": [
      "Tổng số tham số của mô hình: 213589248\n"
     ]
    },
    {
     "data": {
      "text/plain": [
       "T5ForConditionalGeneration(\n",
       "  (shared): Embedding(20000, 768)\n",
       "  (encoder): T5Stack(\n",
       "    (embed_tokens): Embedding(20000, 768)\n",
       "    (block): ModuleList(\n",
       "      (0): T5Block(\n",
       "        (layer): ModuleList(\n",
       "          (0): T5LayerSelfAttention(\n",
       "            (SelfAttention): T5Attention(\n",
       "              (q): Linear(in_features=768, out_features=768, bias=False)\n",
       "              (k): Linear(in_features=768, out_features=768, bias=False)\n",
       "              (v): Linear(in_features=768, out_features=768, bias=False)\n",
       "              (o): Linear(in_features=768, out_features=768, bias=False)\n",
       "              (relative_attention_bias): Embedding(32, 12)\n",
       "            )\n",
       "            (layer_norm): T5LayerNorm()\n",
       "            (dropout): Dropout(p=0.1, inplace=False)\n",
       "          )\n",
       "          (1): T5LayerFF(\n",
       "            (DenseReluDense): T5DenseReluDense(\n",
       "              (wi): Linear(in_features=768, out_features=3072, bias=False)\n",
       "              (wo): Linear(in_features=3072, out_features=768, bias=False)\n",
       "              (dropout): Dropout(p=0.1, inplace=False)\n",
       "            )\n",
       "            (layer_norm): T5LayerNorm()\n",
       "            (dropout): Dropout(p=0.1, inplace=False)\n",
       "          )\n",
       "        )\n",
       "      )\n",
       "      (1-11): 11 x T5Block(\n",
       "        (layer): ModuleList(\n",
       "          (0): T5LayerSelfAttention(\n",
       "            (SelfAttention): T5Attention(\n",
       "              (q): Linear(in_features=768, out_features=768, bias=False)\n",
       "              (k): Linear(in_features=768, out_features=768, bias=False)\n",
       "              (v): Linear(in_features=768, out_features=768, bias=False)\n",
       "              (o): Linear(in_features=768, out_features=768, bias=False)\n",
       "            )\n",
       "            (layer_norm): T5LayerNorm()\n",
       "            (dropout): Dropout(p=0.1, inplace=False)\n",
       "          )\n",
       "          (1): T5LayerFF(\n",
       "            (DenseReluDense): T5DenseReluDense(\n",
       "              (wi): Linear(in_features=768, out_features=3072, bias=False)\n",
       "              (wo): Linear(in_features=3072, out_features=768, bias=False)\n",
       "              (dropout): Dropout(p=0.1, inplace=False)\n",
       "            )\n",
       "            (layer_norm): T5LayerNorm()\n",
       "            (dropout): Dropout(p=0.1, inplace=False)\n",
       "          )\n",
       "        )\n",
       "      )\n",
       "    )\n",
       "    (final_layer_norm): T5LayerNorm()\n",
       "    (dropout): Dropout(p=0.1, inplace=False)\n",
       "  )\n",
       "  (decoder): T5Stack(\n",
       "    (embed_tokens): Embedding(20000, 768)\n",
       "    (block): ModuleList(\n",
       "      (0): T5Block(\n",
       "        (layer): ModuleList(\n",
       "          (0): T5LayerSelfAttention(\n",
       "            (SelfAttention): T5Attention(\n",
       "              (q): Linear(in_features=768, out_features=768, bias=False)\n",
       "              (k): Linear(in_features=768, out_features=768, bias=False)\n",
       "              (v): Linear(in_features=768, out_features=768, bias=False)\n",
       "              (o): Linear(in_features=768, out_features=768, bias=False)\n",
       "              (relative_attention_bias): Embedding(32, 12)\n",
       "            )\n",
       "            (layer_norm): T5LayerNorm()\n",
       "            (dropout): Dropout(p=0.1, inplace=False)\n",
       "          )\n",
       "          (1): T5LayerCrossAttention(\n",
       "            (EncDecAttention): T5Attention(\n",
       "              (q): Linear(in_features=768, out_features=768, bias=False)\n",
       "              (k): Linear(in_features=768, out_features=768, bias=False)\n",
       "              (v): Linear(in_features=768, out_features=768, bias=False)\n",
       "              (o): Linear(in_features=768, out_features=768, bias=False)\n",
       "            )\n",
       "            (layer_norm): T5LayerNorm()\n",
       "            (dropout): Dropout(p=0.1, inplace=False)\n",
       "          )\n",
       "          (2): T5LayerFF(\n",
       "            (DenseReluDense): T5DenseReluDense(\n",
       "              (wi): Linear(in_features=768, out_features=3072, bias=False)\n",
       "              (wo): Linear(in_features=3072, out_features=768, bias=False)\n",
       "              (dropout): Dropout(p=0.1, inplace=False)\n",
       "            )\n",
       "            (layer_norm): T5LayerNorm()\n",
       "            (dropout): Dropout(p=0.1, inplace=False)\n",
       "          )\n",
       "        )\n",
       "      )\n",
       "      (1-11): 11 x T5Block(\n",
       "        (layer): ModuleList(\n",
       "          (0): T5LayerSelfAttention(\n",
       "            (SelfAttention): T5Attention(\n",
       "              (q): Linear(in_features=768, out_features=768, bias=False)\n",
       "              (k): Linear(in_features=768, out_features=768, bias=False)\n",
       "              (v): Linear(in_features=768, out_features=768, bias=False)\n",
       "              (o): Linear(in_features=768, out_features=768, bias=False)\n",
       "            )\n",
       "            (layer_norm): T5LayerNorm()\n",
       "            (dropout): Dropout(p=0.1, inplace=False)\n",
       "          )\n",
       "          (1): T5LayerCrossAttention(\n",
       "            (EncDecAttention): T5Attention(\n",
       "              (q): Linear(in_features=768, out_features=768, bias=False)\n",
       "              (k): Linear(in_features=768, out_features=768, bias=False)\n",
       "              (v): Linear(in_features=768, out_features=768, bias=False)\n",
       "              (o): Linear(in_features=768, out_features=768, bias=False)\n",
       "            )\n",
       "            (layer_norm): T5LayerNorm()\n",
       "            (dropout): Dropout(p=0.1, inplace=False)\n",
       "          )\n",
       "          (2): T5LayerFF(\n",
       "            (DenseReluDense): T5DenseReluDense(\n",
       "              (wi): Linear(in_features=768, out_features=3072, bias=False)\n",
       "              (wo): Linear(in_features=3072, out_features=768, bias=False)\n",
       "              (dropout): Dropout(p=0.1, inplace=False)\n",
       "            )\n",
       "            (layer_norm): T5LayerNorm()\n",
       "            (dropout): Dropout(p=0.1, inplace=False)\n",
       "          )\n",
       "        )\n",
       "      )\n",
       "    )\n",
       "    (final_layer_norm): T5LayerNorm()\n",
       "    (dropout): Dropout(p=0.1, inplace=False)\n",
       "  )\n",
       "  (lm_head): Linear(in_features=768, out_features=20000, bias=False)\n",
       ")"
      ]
     },
     "execution_count": 8,
     "metadata": {},
     "output_type": "execute_result"
    }
   ],
   "source": [
    "total_params = sum(p.numel() for p in simplet5.model.parameters())\n",
    "print(f\"Tổng số tham số của mô hình: {total_params}\")\n",
    "simplet5.model"
   ]
  },
  {
   "cell_type": "markdown",
   "id": "453e1aa3",
   "metadata": {
    "papermill": {
     "duration": 0.009408,
     "end_time": "2024-11-14T17:36:20.147363",
     "exception": false,
     "start_time": "2024-11-14T17:36:20.137955",
     "status": "completed"
    },
    "tags": []
   },
   "source": [
    "# Training Progress Visualization"
   ]
  },
  {
   "cell_type": "code",
   "execution_count": 9,
   "id": "95aee4cf",
   "metadata": {
    "execution": {
     "iopub.execute_input": "2024-11-14T17:36:20.167634Z",
     "iopub.status.busy": "2024-11-14T17:36:20.167325Z",
     "iopub.status.idle": "2024-11-14T17:36:20.528632Z",
     "shell.execute_reply": "2024-11-14T17:36:20.527713Z"
    },
    "papermill": {
     "duration": 0.374098,
     "end_time": "2024-11-14T17:36:20.531024",
     "exception": false,
     "start_time": "2024-11-14T17:36:20.156926",
     "status": "completed"
    },
    "tags": []
   },
   "outputs": [
    {
     "data": {
      "image/png": "[encoded data removed]",
      "text/plain": [
       "<Figure size 1000x600 with 1 Axes>"
      ]
     },
     "metadata": {},
     "output_type": "display_data"
    }
   ],
   "source": [
    "epochs = range(1, 21)\n",
    "train_loss = [\n",
    "    2.8112, 1.93, 1.7054, 1.564, 1.4577, 1.3586, 1.2814, 1.2171, 1.158, 1.1031, \n",
    "    1.0473, 1.0004, 0.9588, 0.9214, 0.8861, 0.8513, 0.8113, 0.7769, 0.7501, 0.7205\n",
    "]\n",
    "val_loss = [\n",
    "    1.4982, 1.1801, 1.0517, 0.9555, 0.8898, 0.8571, 0.8279, 0.7905, 0.7691, 0.7557,\n",
    "    0.7525, 0.757, 0.7523, 0.7479, 0.7404, 0.743, 0.75, 0.7581, 0.7519, 0.7586\n",
    "]\n",
    "plt.figure(figsize=(10, 6))\n",
    "plt.plot(epochs, train_loss, label='Train Loss', marker='o')\n",
    "plt.plot(epochs, val_loss, label='Validation Loss', marker='o')\n",
    "\n",
    "# Adding labels and title\n",
    "plt.xlabel('Epochs')\n",
    "plt.ylabel('Loss')\n",
    "plt.title('Train and Validation Loss over Epochs')\n",
    "plt.legend()\n",
    "\n",
    "plt.grid(True)\n",
    "plt.show()\n"
   ]
  },
  {
   "cell_type": "markdown",
   "id": "61293fd4",
   "metadata": {
    "papermill": {
     "duration": 0.010068,
     "end_time": "2024-11-14T17:36:20.551862",
     "exception": false,
     "start_time": "2024-11-14T17:36:20.541794",
     "status": "completed"
    },
    "tags": []
   },
   "source": [
    "# Evaluate"
   ]
  },
  {
   "cell_type": "code",
   "execution_count": 10,
   "id": "e525e1b2",
   "metadata": {
    "execution": {
     "iopub.execute_input": "2024-11-14T17:36:20.573777Z",
     "iopub.status.busy": "2024-11-14T17:36:20.573473Z",
     "iopub.status.idle": "2024-11-14T17:36:20.579692Z",
     "shell.execute_reply": "2024-11-14T17:36:20.578903Z"
    },
    "papermill": {
     "duration": 0.019458,
     "end_time": "2024-11-14T17:36:20.581581",
     "exception": false,
     "start_time": "2024-11-14T17:36:20.562123",
     "status": "completed"
    },
    "tags": []
   },
   "outputs": [],
   "source": [
    "def calculate_f1_score(true_answer, predicted_answer):\n",
    "    # Tiền xử lý: loại bỏ dấu câu và đưa về chữ thường\n",
    "    true_tokens = re.findall(r'\\w+', true_answer.lower())\n",
    "    pred_tokens = re.findall(r'\\w+', predicted_answer.lower())\n",
    "    \n",
    "    # Tìm các từ chung giữa hai câu\n",
    "    common_tokens = set(true_tokens) & set(pred_tokens)\n",
    "    \n",
    "    if not common_tokens:\n",
    "        return 0.0\n",
    "    \n",
    "    # Tính Precision và Recall\n",
    "    precision = len(common_tokens) / len(pred_tokens)\n",
    "    recall = len(common_tokens) / len(true_tokens)\n",
    "    \n",
    "    # Tính F1 Score\n",
    "    f1 = 2 * (precision * recall) / (precision + recall) if (precision + recall) > 0 else 0\n",
    "    return f1"
   ]
  },
  {
   "cell_type": "code",
   "execution_count": 11,
   "id": "33839bef",
   "metadata": {
    "execution": {
     "iopub.execute_input": "2024-11-14T17:36:20.602865Z",
     "iopub.status.busy": "2024-11-14T17:36:20.602598Z",
     "iopub.status.idle": "2024-11-14T17:36:20.607548Z",
     "shell.execute_reply": "2024-11-14T17:36:20.606678Z"
    },
    "papermill": {
     "duration": 0.017761,
     "end_time": "2024-11-14T17:36:20.609448",
     "exception": false,
     "start_time": "2024-11-14T17:36:20.591687",
     "status": "completed"
    },
    "tags": []
   },
   "outputs": [],
   "source": [
    "def calculate_bleu_score(true_answer, predicted_answer):\n",
    "    # Tokenize câu trả lời mẫu và câu trả lời dự đoán\n",
    "    true_tokens = [true_answer.lower().split()]\n",
    "    pred_tokens = predicted_answer.lower().split()\n",
    "    \n",
    "    # Tính BLEU Score với smoothing để tránh trường hợp BLEU = 0 khi không có n-gram nào trùng khớp\n",
    "    smoothie = SmoothingFunction().method4\n",
    "    bleu = sentence_bleu(true_tokens, pred_tokens, smoothing_function=smoothie)\n",
    "    return bleu"
   ]
  },
  {
   "cell_type": "code",
   "execution_count": 12,
   "id": "87916a7a",
   "metadata": {
    "execution": {
     "iopub.execute_input": "2024-11-14T17:36:20.631107Z",
     "iopub.status.busy": "2024-11-14T17:36:20.630639Z",
     "iopub.status.idle": "2024-11-14T17:36:20.636009Z",
     "shell.execute_reply": "2024-11-14T17:36:20.635178Z"
    },
    "papermill": {
     "duration": 0.018375,
     "end_time": "2024-11-14T17:36:20.637936",
     "exception": false,
     "start_time": "2024-11-14T17:36:20.619561",
     "status": "completed"
    },
    "tags": []
   },
   "outputs": [],
   "source": [
    "def calculate_rouge_scores(true_answer, predicted_answer):\n",
    "    # Khởi tạo ROUGE Scorer với ROUGE-1, ROUGE-2, và ROUGE-L\n",
    "    scorer = rouge_scorer.RougeScorer(['rouge1', 'rouge2', 'rougeL'], use_stemmer=True)\n",
    "    scores = scorer.score(true_answer, predicted_answer)\n",
    "    \n",
    "    # Trích xuất từng chỉ số ROUGE và trả về kết quả\n",
    "    rouge_1 = scores['rouge1'].fmeasure\n",
    "    rouge_2 = scores['rouge2'].fmeasure\n",
    "    rouge_l = scores['rougeL'].fmeasure\n",
    "    \n",
    "    return rouge_1, rouge_2, rouge_l"
   ]
  },
  {
   "cell_type": "code",
   "execution_count": 13,
   "id": "7aa6c66a",
   "metadata": {
    "execution": {
     "iopub.execute_input": "2024-11-14T17:36:20.659685Z",
     "iopub.status.busy": "2024-11-14T17:36:20.659369Z",
     "iopub.status.idle": "2024-11-14T17:37:42.647222Z",
     "shell.execute_reply": "2024-11-14T17:37:42.646353Z"
    },
    "papermill": {
     "duration": 82.002624,
     "end_time": "2024-11-14T17:37:42.650907",
     "exception": false,
     "start_time": "2024-11-14T17:36:20.648283",
     "status": "completed"
    },
    "tags": []
   },
   "outputs": [
    {
     "data": {
      "application/vnd.jupyter.widget-view+json": {
       "model_id": "71bbc9d3b4d84ac9bd958949b3c53830",
       "version_major": 2,
       "version_minor": 0
      },
      "text/plain": [
       "Evaluate:   0%|          | 0/130 [00:00<?, ?it/s]"
      ]
     },
     "metadata": {},
     "output_type": "display_data"
    },
    {
     "name": "stdout",
     "output_type": "stream",
     "text": [
      "Evaluate:\n",
      "Average F1 Score: 0.5830\n",
      "Average BLEU Score: 0.3943\n",
      "Average ROUGE-1 Score: 0.7540\n",
      "Average ROUGE-2 Score: 0.5528\n",
      "Average ROUGE-L Score: 0.6273\n"
     ]
    }
   ],
   "source": [
    "# Khởi tạo các biến để lưu tổng các chỉ số\n",
    "total_f1, total_bleu, total_rouge_1, total_rouge_2, total_rouge_l = 0, 0, 0, 0, 0\n",
    "n = len(test_df)\n",
    "skip = 0\n",
    "\n",
    "for i in tqdm(range(n), desc=\"Evaluate\"):\n",
    "    try:\n",
    "        # Lấy câu trả lời kỳ vọng và câu trả lời dự đoán\n",
    "        expected_response = test_df['target_text'].iloc[i].replace('<newline>', '\\n')\n",
    "        actual_response = simplet5.predict(test_df['source_text'].iloc[i], skip_special_tokens=False)[0]\n",
    "        actual_response = actual_response.replace('<pad> ', '').replace('</s>', '').replace('<newline>', '\\n')\n",
    "\n",
    "        # Tính các chỉ số\n",
    "        f1 = calculate_f1_score(expected_response, actual_response)\n",
    "        bleu = calculate_bleu_score(expected_response, actual_response)\n",
    "        rouge_1, rouge_2, rouge_l = calculate_rouge_scores(expected_response, actual_response)\n",
    "    except:\n",
    "        skip +=1\n",
    "        continue\n",
    "    # Cộng dồn các chỉ số\n",
    "    total_f1 += f1\n",
    "    total_bleu += bleu\n",
    "    total_rouge_1 += rouge_1\n",
    "    total_rouge_2 += rouge_2\n",
    "    total_rouge_l += rouge_l\n",
    "\n",
    "# Tính trung bình các chỉ số\n",
    "average_f1 = total_f1 / (n-skip)\n",
    "average_bleu = total_bleu / (n-skip)\n",
    "average_rouge_1 = total_rouge_1 / (n-skip)\n",
    "average_rouge_2 = total_rouge_2 / (n-skip)\n",
    "average_rouge_l = total_rouge_l / (n-skip)\n",
    "\n",
    "# In ra kết quả trung bình\n",
    "print(\"Evaluate:\")\n",
    "print(f\"Average F1 Score: {average_f1:.4f}\")\n",
    "print(f\"Average BLEU Score: {average_bleu:.4f}\")\n",
    "print(f\"Average ROUGE-1 Score: {average_rouge_1:.4f}\")\n",
    "print(f\"Average ROUGE-2 Score: {average_rouge_2:.4f}\")\n",
    "print(f\"Average ROUGE-L Score: {average_rouge_l:.4f}\")"
   ]
  }
 ],
 "metadata": {
  "kaggle": {
   "accelerator": "gpu",
   "dataSources": [
    {
     "sourceId": 205812676,
     "sourceType": "kernelVersion"
    },
    {
     "sourceId": 206084925,
     "sourceType": "kernelVersion"
    }
   ],
   "dockerImageVersionId": 30787,
   "isGpuEnabled": true,
   "isInternetEnabled": true,
   "language": "python",
   "sourceType": "notebook"
  },
  "kernelspec": {
   "display_name": "Python 3",
   "language": "python",
   "name": "python3"
  },
  "language_info": {
   "codemirror_mode": {
    "name": "ipython",
    "version": 3
   },
   "file_extension": ".py",
   "mimetype": "text/x-python",
   "name": "python",
   "nbconvert_exporter": "python",
   "pygments_lexer": "ipython3",
   "version": "3.10.14"
  },
  "papermill": {
   "default_parameters": {},
   "duration": 157.744793,
   "end_time": "2024-11-14T17:37:45.742367",
   "environment_variables": {},
   "exception": null,
   "input_path": "__notebook__.ipynb",
   "output_path": "__notebook__.ipynb",
   "parameters": {},
   "start_time": "2024-11-14T17:35:07.997574",
   "version": "2.6.0"
  },
  "widgets": {
   "application/vnd.jupyter.widget-state+json": {
    "state": {
     "21289c103dc34165b12c77ae216754ea": {
      "model_module": "@jupyter-widgets/controls",
      "model_module_version": "1.5.0",
      "model_name": "HTMLModel",
      "state": {
       "_dom_classes": [],
       "_model_module": "@jupyter-widgets/controls",
       "_model_module_version": "1.5.0",
       "_model_name": "HTMLModel",
       "_view_count": null,
       "_view_module": "@jupyter-widgets/controls",
       "_view_module_version": "1.5.0",
       "_view_name": "HTMLView",
       "description": "",
       "description_tooltip": null,
       "layout": "IPY_MODEL_870dee321bc34cc9a7501a1fa37d5c58",
       "placeholder": "​",
       "style": "IPY_MODEL_b5688b48dd2c4db194e7eec72defd828",
       "value": "Evaluate: 100%"
      }
     },
     "4df14f05359b454eb1be5e16e13815a5": {
      "model_module": "@jupyter-widgets/base",
      "model_module_version": "1.2.0",
      "model_name": "LayoutModel",
      "state": {
       "_model_module": "@jupyter-widgets/base",
       "_model_module_version": "1.2.0",
       "_model_name": "LayoutModel",
       "_view_count": null,
       "_view_module": "@jupyter-widgets/base",
       "_view_module_version": "1.2.0",
       "_view_name": "LayoutView",
       "align_content": null,
       "align_items": null,
       "align_self": null,
       "border": null,
       "bottom": null,
       "display": null,
       "flex": null,
       "flex_flow": null,
       "grid_area": null,
       "grid_auto_columns": null,
       "grid_auto_flow": null,
       "grid_auto_rows": null,
       "grid_column": null,
       "grid_gap": null,
       "grid_row": null,
       "grid_template_areas": null,
       "grid_template_columns": null,
       "grid_template_rows": null,
       "height": null,
       "justify_content": null,
       "justify_items": null,
       "left": null,
       "margin": null,
       "max_height": null,
       "max_width": null,
       "min_height": null,
       "min_width": null,
       "object_fit": null,
       "object_position": null,
       "order": null,
       "overflow": null,
       "overflow_x": null,
       "overflow_y": null,
       "padding": null,
       "right": null,
       "top": null,
       "visibility": null,
       "width": null
      }
     },
     "5cb5fe052e834fab99e246e7309a615f": {
      "model_module": "@jupyter-widgets/base",
      "model_module_version": "1.2.0",
      "model_name": "LayoutModel",
      "state": {
       "_model_module": "@jupyter-widgets/base",
       "_model_module_version": "1.2.0",
       "_model_name": "LayoutModel",
       "_view_count": null,
       "_view_module": "@jupyter-widgets/base",
       "_view_module_version": "1.2.0",
       "_view_name": "LayoutView",
       "align_content": null,
       "align_items": null,
       "align_self": null,
       "border": null,
       "bottom": null,
       "display": null,
       "flex": null,
       "flex_flow": null,
       "grid_area": null,
       "grid_auto_columns": null,
       "grid_auto_flow": null,
       "grid_auto_rows": null,
       "grid_column": null,
       "grid_gap": null,
       "grid_row": null,
       "grid_template_areas": null,
       "grid_template_columns": null,
       "grid_template_rows": null,
       "height": null,
       "justify_content": null,
       "justify_items": null,
       "left": null,
       "margin": null,
       "max_height": null,
       "max_width": null,
       "min_height": null,
       "min_width": null,
       "object_fit": null,
       "object_position": null,
       "order": null,
       "overflow": null,
       "overflow_x": null,
       "overflow_y": null,
       "padding": null,
       "right": null,
       "top": null,
       "visibility": null,
       "width": null
      }
     },
     "71bbc9d3b4d84ac9bd958949b3c53830": {
      "model_module": "@jupyter-widgets/controls",
      "model_module_version": "1.5.0",
      "model_name": "HBoxModel",
      "state": {
       "_dom_classes": [],
       "_model_module": "@jupyter-widgets/controls",
       "_model_module_version": "1.5.0",
       "_model_name": "HBoxModel",
       "_view_count": null,
       "_view_module": "@jupyter-widgets/controls",
       "_view_module_version": "1.5.0",
       "_view_name": "HBoxView",
       "box_style": "",
       "children": [
        "IPY_MODEL_21289c103dc34165b12c77ae216754ea",
        "IPY_MODEL_a670263d8d4040c980c49462a07f98e3",
        "IPY_MODEL_eb7fce0b5f924335ac24efa0a9d62034"
       ],
       "layout": "IPY_MODEL_f2f965f3e44847cd9e176590096b0464"
      }
     },
     "870dee321bc34cc9a7501a1fa37d5c58": {
      "model_module": "@jupyter-widgets/base",
      "model_module_version": "1.2.0",
      "model_name": "LayoutModel",
      "state": {
       "_model_module": "@jupyter-widgets/base",
       "_model_module_version": "1.2.0",
       "_model_name": "LayoutModel",
       "_view_count": null,
       "_view_module": "@jupyter-widgets/base",
       "_view_module_version": "1.2.0",
       "_view_name": "LayoutView",
       "align_content": null,
       "align_items": null,
       "align_self": null,
       "border": null,
       "bottom": null,
       "display": null,
       "flex": null,
       "flex_flow": null,
       "grid_area": null,
       "grid_auto_columns": null,
       "grid_auto_flow": null,
       "grid_auto_rows": null,
       "grid_column": null,
       "grid_gap": null,
       "grid_row": null,
       "grid_template_areas": null,
       "grid_template_columns": null,
       "grid_template_rows": null,
       "height": null,
       "justify_content": null,
       "justify_items": null,
       "left": null,
       "margin": null,
       "max_height": null,
       "max_width": null,
       "min_height": null,
       "min_width": null,
       "object_fit": null,
       "object_position": null,
       "order": null,
       "overflow": null,
       "overflow_x": null,
       "overflow_y": null,
       "padding": null,
       "right": null,
       "top": null,
       "visibility": null,
       "width": null
      }
     },
     "a670263d8d4040c980c49462a07f98e3": {
      "model_module": "@jupyter-widgets/controls",
      "model_module_version": "1.5.0",
      "model_name": "FloatProgressModel",
      "state": {
       "_dom_classes": [],
       "_model_module": "@jupyter-widgets/controls",
       "_model_module_version": "1.5.0",
       "_model_name": "FloatProgressModel",
       "_view_count": null,
       "_view_module": "@jupyter-widgets/controls",
       "_view_module_version": "1.5.0",
       "_view_name": "ProgressView",
       "bar_style": "success",
       "description": "",
       "description_tooltip": null,
       "layout": "IPY_MODEL_5cb5fe052e834fab99e246e7309a615f",
       "max": 130.0,
       "min": 0.0,
       "orientation": "horizontal",
       "style": "IPY_MODEL_bc1ab3929f114a63b76091e5794227f5",
       "value": 130.0
      }
     },
     "b5688b48dd2c4db194e7eec72defd828": {
      "model_module": "@jupyter-widgets/controls",
      "model_module_version": "1.5.0",
      "model_name": "DescriptionStyleModel",
      "state": {
       "_model_module": "@jupyter-widgets/controls",
       "_model_module_version": "1.5.0",
       "_model_name": "DescriptionStyleModel",
       "_view_count": null,
       "_view_module": "@jupyter-widgets/base",
       "_view_module_version": "1.2.0",
       "_view_name": "StyleView",
       "description_width": ""
      }
     },
     "bc1ab3929f114a63b76091e5794227f5": {
      "model_module": "@jupyter-widgets/controls",
      "model_module_version": "1.5.0",
      "model_name": "ProgressStyleModel",
      "state": {
       "_model_module": "@jupyter-widgets/controls",
       "_model_module_version": "1.5.0",
       "_model_name": "ProgressStyleModel",
       "_view_count": null,
       "_view_module": "@jupyter-widgets/base",
       "_view_module_version": "1.2.0",
       "_view_name": "StyleView",
       "bar_color": null,
       "description_width": ""
      }
     },
     "eb7fce0b5f924335ac24efa0a9d62034": {
      "model_module": "@jupyter-widgets/controls",
      "model_module_version": "1.5.0",
      "model_name": "HTMLModel",
      "state": {
       "_dom_classes": [],
       "_model_module": "@jupyter-widgets/controls",
       "_model_module_version": "1.5.0",
       "_model_name": "HTMLModel",
       "_view_count": null,
       "_view_module": "@jupyter-widgets/controls",
       "_view_module_version": "1.5.0",
       "_view_name": "HTMLView",
       "description": "",
       "description_tooltip": null,
       "layout": "IPY_MODEL_4df14f05359b454eb1be5e16e13815a5",
       "placeholder": "​",
       "style": "IPY_MODEL_f203b131732e499ca14d24c3ab226844",
       "value": " 130/130 [01:21&lt;00:00,  1.14it/s]"
      }
     },
     "f203b131732e499ca14d24c3ab226844": {
      "model_module": "@jupyter-widgets/controls",
      "model_module_version": "1.5.0",
      "model_name": "DescriptionStyleModel",
      "state": {
       "_model_module": "@jupyter-widgets/controls",
       "_model_module_version": "1.5.0",
       "_model_name": "DescriptionStyleModel",
       "_view_count": null,
       "_view_module": "@jupyter-widgets/base",
       "_view_module_version": "1.2.0",
       "_view_name": "StyleView",
       "description_width": ""
      }
     },
     "f2f965f3e44847cd9e176590096b0464": {
      "model_module": "@jupyter-widgets/base",
      "model_module_version": "1.2.0",
      "model_name": "LayoutModel",
      "state": {
       "_model_module": "@jupyter-widgets/base",
       "_model_module_version": "1.2.0",
       "_model_name": "LayoutModel",
       "_view_count": null,
       "_view_module": "@jupyter-widgets/base",
       "_view_module_version": "1.2.0",
       "_view_name": "LayoutView",
       "align_content": null,
       "align_items": null,
       "align_self": null,
       "border": null,
       "bottom": null,
       "display": null,
       "flex": null,
       "flex_flow": null,
       "grid_area": null,
       "grid_auto_columns": null,
       "grid_auto_flow": null,
       "grid_auto_rows": null,
       "grid_column": null,
       "grid_gap": null,
       "grid_row": null,
       "grid_template_areas": null,
       "grid_template_columns": null,
       "grid_template_rows": null,
       "height": null,
       "justify_content": null,
       "justify_items": null,
       "left": null,
       "margin": null,
       "max_height": null,
       "max_width": null,
       "min_height": null,
       "min_width": null,
       "object_fit": null,
       "object_position": null,
       "order": null,
       "overflow": null,
       "overflow_x": null,
       "overflow_y": null,
       "padding": null,
       "right": null,
       "top": null,
       "visibility": null,
       "width": null
      }
     }
    },
    "version_major": 2,
    "version_minor": 0
   }
  }
 },
 "nbformat": 4,
 "nbformat_minor": 5
}
